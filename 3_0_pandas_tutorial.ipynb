{
  "nbformat": 4,
  "nbformat_minor": 0,
  "metadata": {
    "kernelspec": {
      "display_name": "Python 3",
      "language": "python",
      "name": "python3"
    },
    "language_info": {
      "codemirror_mode": {
        "name": "ipython",
        "version": 3
      },
      "file_extension": ".py",
      "mimetype": "text/x-python",
      "name": "python",
      "nbconvert_exporter": "python",
      "pygments_lexer": "ipython3",
      "version": "3.7.4"
    },
    "colab": {
      "name": "3.0 pandas-tutorial.ipynb",
      "provenance": [],
      "collapsed_sections": [],
      "toc_visible": true
    }
  },
  "cells": [
    {
      "cell_type": "markdown",
      "metadata": {
        "id": "AMurrVjBHOPx"
      },
      "source": [
        "# Analyzing Data using Python and Pandas Dataframes \n",
        "\n",
        "![](https://i.imgur.com/zfxLzEv.png)\n",
        "\n"
      ]
    },
    {
      "cell_type": "code",
      "metadata": {
        "id": "qsl3UtC-3QjY",
        "colab": {
          "base_uri": "https://localhost:8080/"
        },
        "outputId": "e929757b-4df3-4f4a-a07a-7d89f58e6386"
      },
      "source": [
        "from google.colab import drive\n",
        "drive.mount('/content/drive')"
      ],
      "execution_count": null,
      "outputs": [
        {
          "output_type": "stream",
          "text": [
            "Mounted at /content/drive\n"
          ],
          "name": "stdout"
        }
      ]
    },
    {
      "cell_type": "code",
      "metadata": {
        "id": "kGIc_9rk2GvV"
      },
      "source": [
        "import pandas as pd\n",
        "import numpy as np\n",
        "from IPython.display import display"
      ],
      "execution_count": null,
      "outputs": []
    },
    {
      "cell_type": "markdown",
      "metadata": {
        "id": "kPfnhrgg2Gve"
      },
      "source": [
        "## Basic operations"
      ]
    },
    {
      "cell_type": "code",
      "metadata": {
        "id": "IalFovSg2GwO",
        "colab": {
          "base_uri": "https://localhost:8080/",
          "height": 402
        },
        "outputId": "c052f5bd-77a8-46a6-dcf7-0c4be4654608"
      },
      "source": [
        "df=pd.read_csv('/content/drive/MyDrive/GeoML-1.0/well1.csv',delimiter=',')\n",
        "display(df)\n"
      ],
      "execution_count": null,
      "outputs": [
        {
          "output_type": "display_data",
          "data": {
            "text/html": [
              "<div>\n",
              "<style scoped>\n",
              "    .dataframe tbody tr th:only-of-type {\n",
              "        vertical-align: middle;\n",
              "    }\n",
              "\n",
              "    .dataframe tbody tr th {\n",
              "        vertical-align: top;\n",
              "    }\n",
              "\n",
              "    .dataframe thead th {\n",
              "        text-align: right;\n",
              "    }\n",
              "</style>\n",
              "<table border=\"1\" class=\"dataframe\">\n",
              "  <thead>\n",
              "    <tr style=\"text-align: right;\">\n",
              "      <th></th>\n",
              "      <th>DEPTH</th>\n",
              "      <th>RHOB</th>\n",
              "      <th>DT</th>\n",
              "      <th>GR</th>\n",
              "      <th>FACIES</th>\n",
              "    </tr>\n",
              "  </thead>\n",
              "  <tbody>\n",
              "    <tr>\n",
              "      <th>0</th>\n",
              "      <td>48.0000</td>\n",
              "      <td>NaN</td>\n",
              "      <td>524.0485</td>\n",
              "      <td>NaN</td>\n",
              "      <td>1</td>\n",
              "    </tr>\n",
              "    <tr>\n",
              "      <th>1</th>\n",
              "      <td>48.1500</td>\n",
              "      <td>NaN</td>\n",
              "      <td>524.0410</td>\n",
              "      <td>NaN</td>\n",
              "      <td>1</td>\n",
              "    </tr>\n",
              "    <tr>\n",
              "      <th>2</th>\n",
              "      <td>48.3000</td>\n",
              "      <td>NaN</td>\n",
              "      <td>524.0336</td>\n",
              "      <td>NaN</td>\n",
              "      <td>1</td>\n",
              "    </tr>\n",
              "    <tr>\n",
              "      <th>3</th>\n",
              "      <td>48.4500</td>\n",
              "      <td>NaN</td>\n",
              "      <td>524.0262</td>\n",
              "      <td>NaN</td>\n",
              "      <td>1</td>\n",
              "    </tr>\n",
              "    <tr>\n",
              "      <th>4</th>\n",
              "      <td>48.6000</td>\n",
              "      <td>NaN</td>\n",
              "      <td>524.0190</td>\n",
              "      <td>NaN</td>\n",
              "      <td>1</td>\n",
              "    </tr>\n",
              "    <tr>\n",
              "      <th>...</th>\n",
              "      <td>...</td>\n",
              "      <td>...</td>\n",
              "      <td>...</td>\n",
              "      <td>...</td>\n",
              "      <td>...</td>\n",
              "    </tr>\n",
              "    <tr>\n",
              "      <th>9675</th>\n",
              "      <td>1499.2500</td>\n",
              "      <td>1787.5444</td>\n",
              "      <td>532.1727</td>\n",
              "      <td>27.6273</td>\n",
              "      <td>1</td>\n",
              "    </tr>\n",
              "    <tr>\n",
              "      <th>9676</th>\n",
              "      <td>1499.4000</td>\n",
              "      <td>1814.1691</td>\n",
              "      <td>534.8610</td>\n",
              "      <td>28.5281</td>\n",
              "      <td>1</td>\n",
              "    </tr>\n",
              "    <tr>\n",
              "      <th>9677</th>\n",
              "      <td>1499.5500</td>\n",
              "      <td>1861.6497</td>\n",
              "      <td>537.1902</td>\n",
              "      <td>28.5813</td>\n",
              "      <td>1</td>\n",
              "    </tr>\n",
              "    <tr>\n",
              "      <th>9678</th>\n",
              "      <td>1499.7001</td>\n",
              "      <td>1880.3978</td>\n",
              "      <td>537.2630</td>\n",
              "      <td>28.5813</td>\n",
              "      <td>1</td>\n",
              "    </tr>\n",
              "    <tr>\n",
              "      <th>9679</th>\n",
              "      <td>1499.8501</td>\n",
              "      <td>1856.3350</td>\n",
              "      <td>537.3831</td>\n",
              "      <td>27.9759</td>\n",
              "      <td>1</td>\n",
              "    </tr>\n",
              "  </tbody>\n",
              "</table>\n",
              "<p>9680 rows × 5 columns</p>\n",
              "</div>"
            ],
            "text/plain": [
              "          DEPTH       RHOB        DT       GR  FACIES\n",
              "0       48.0000        NaN  524.0485      NaN       1\n",
              "1       48.1500        NaN  524.0410      NaN       1\n",
              "2       48.3000        NaN  524.0336      NaN       1\n",
              "3       48.4500        NaN  524.0262      NaN       1\n",
              "4       48.6000        NaN  524.0190      NaN       1\n",
              "...         ...        ...       ...      ...     ...\n",
              "9675  1499.2500  1787.5444  532.1727  27.6273       1\n",
              "9676  1499.4000  1814.1691  534.8610  28.5281       1\n",
              "9677  1499.5500  1861.6497  537.1902  28.5813       1\n",
              "9678  1499.7001  1880.3978  537.2630  28.5813       1\n",
              "9679  1499.8501  1856.3350  537.3831  27.9759       1\n",
              "\n",
              "[9680 rows x 5 columns]"
            ]
          },
          "metadata": {
            "tags": []
          }
        }
      ]
    },
    {
      "cell_type": "code",
      "metadata": {
        "colab": {
          "base_uri": "https://localhost:8080/",
          "height": 788
        },
        "id": "gl0hVnUmsr4D",
        "outputId": "a6fd2d92-ce1a-4bc2-9397-81f99c56f3e6"
      },
      "source": [
        "display('head : ',df.head())\n",
        "print(\"=\" * 100)\n",
        "display('Tail : ',df.tail(5))\n",
        "print(\"=\" * 100)\n",
        "display('Samples : ',df.sample(10))\n"
      ],
      "execution_count": null,
      "outputs": [
        {
          "output_type": "display_data",
          "data": {
            "application/vnd.google.colaboratory.intrinsic+json": {
              "type": "string"
            },
            "text/plain": [
              "'head : '"
            ]
          },
          "metadata": {
            "tags": []
          }
        },
        {
          "output_type": "display_data",
          "data": {
            "text/html": [
              "<div>\n",
              "<style scoped>\n",
              "    .dataframe tbody tr th:only-of-type {\n",
              "        vertical-align: middle;\n",
              "    }\n",
              "\n",
              "    .dataframe tbody tr th {\n",
              "        vertical-align: top;\n",
              "    }\n",
              "\n",
              "    .dataframe thead th {\n",
              "        text-align: right;\n",
              "    }\n",
              "</style>\n",
              "<table border=\"1\" class=\"dataframe\">\n",
              "  <thead>\n",
              "    <tr style=\"text-align: right;\">\n",
              "      <th></th>\n",
              "      <th>DEPTH</th>\n",
              "      <th>RHOB</th>\n",
              "      <th>DT</th>\n",
              "      <th>GR</th>\n",
              "      <th>FACIES</th>\n",
              "    </tr>\n",
              "  </thead>\n",
              "  <tbody>\n",
              "    <tr>\n",
              "      <th>0</th>\n",
              "      <td>48.00</td>\n",
              "      <td>NaN</td>\n",
              "      <td>524.0485</td>\n",
              "      <td>NaN</td>\n",
              "      <td>1</td>\n",
              "    </tr>\n",
              "    <tr>\n",
              "      <th>1</th>\n",
              "      <td>48.15</td>\n",
              "      <td>NaN</td>\n",
              "      <td>524.0410</td>\n",
              "      <td>NaN</td>\n",
              "      <td>1</td>\n",
              "    </tr>\n",
              "    <tr>\n",
              "      <th>2</th>\n",
              "      <td>48.30</td>\n",
              "      <td>NaN</td>\n",
              "      <td>524.0336</td>\n",
              "      <td>NaN</td>\n",
              "      <td>1</td>\n",
              "    </tr>\n",
              "    <tr>\n",
              "      <th>3</th>\n",
              "      <td>48.45</td>\n",
              "      <td>NaN</td>\n",
              "      <td>524.0262</td>\n",
              "      <td>NaN</td>\n",
              "      <td>1</td>\n",
              "    </tr>\n",
              "    <tr>\n",
              "      <th>4</th>\n",
              "      <td>48.60</td>\n",
              "      <td>NaN</td>\n",
              "      <td>524.0190</td>\n",
              "      <td>NaN</td>\n",
              "      <td>1</td>\n",
              "    </tr>\n",
              "  </tbody>\n",
              "</table>\n",
              "</div>"
            ],
            "text/plain": [
              "   DEPTH  RHOB        DT  GR  FACIES\n",
              "0  48.00   NaN  524.0485 NaN       1\n",
              "1  48.15   NaN  524.0410 NaN       1\n",
              "2  48.30   NaN  524.0336 NaN       1\n",
              "3  48.45   NaN  524.0262 NaN       1\n",
              "4  48.60   NaN  524.0190 NaN       1"
            ]
          },
          "metadata": {
            "tags": []
          }
        },
        {
          "output_type": "stream",
          "text": [
            "====================================================================================================\n"
          ],
          "name": "stdout"
        },
        {
          "output_type": "display_data",
          "data": {
            "application/vnd.google.colaboratory.intrinsic+json": {
              "type": "string"
            },
            "text/plain": [
              "'Tail : '"
            ]
          },
          "metadata": {
            "tags": []
          }
        },
        {
          "output_type": "display_data",
          "data": {
            "text/html": [
              "<div>\n",
              "<style scoped>\n",
              "    .dataframe tbody tr th:only-of-type {\n",
              "        vertical-align: middle;\n",
              "    }\n",
              "\n",
              "    .dataframe tbody tr th {\n",
              "        vertical-align: top;\n",
              "    }\n",
              "\n",
              "    .dataframe thead th {\n",
              "        text-align: right;\n",
              "    }\n",
              "</style>\n",
              "<table border=\"1\" class=\"dataframe\">\n",
              "  <thead>\n",
              "    <tr style=\"text-align: right;\">\n",
              "      <th></th>\n",
              "      <th>DEPTH</th>\n",
              "      <th>RHOB</th>\n",
              "      <th>DT</th>\n",
              "      <th>GR</th>\n",
              "      <th>FACIES</th>\n",
              "    </tr>\n",
              "  </thead>\n",
              "  <tbody>\n",
              "    <tr>\n",
              "      <th>9675</th>\n",
              "      <td>1499.2500</td>\n",
              "      <td>1787.5444</td>\n",
              "      <td>532.1727</td>\n",
              "      <td>27.6273</td>\n",
              "      <td>1</td>\n",
              "    </tr>\n",
              "    <tr>\n",
              "      <th>9676</th>\n",
              "      <td>1499.4000</td>\n",
              "      <td>1814.1691</td>\n",
              "      <td>534.8610</td>\n",
              "      <td>28.5281</td>\n",
              "      <td>1</td>\n",
              "    </tr>\n",
              "    <tr>\n",
              "      <th>9677</th>\n",
              "      <td>1499.5500</td>\n",
              "      <td>1861.6497</td>\n",
              "      <td>537.1902</td>\n",
              "      <td>28.5813</td>\n",
              "      <td>1</td>\n",
              "    </tr>\n",
              "    <tr>\n",
              "      <th>9678</th>\n",
              "      <td>1499.7001</td>\n",
              "      <td>1880.3978</td>\n",
              "      <td>537.2630</td>\n",
              "      <td>28.5813</td>\n",
              "      <td>1</td>\n",
              "    </tr>\n",
              "    <tr>\n",
              "      <th>9679</th>\n",
              "      <td>1499.8501</td>\n",
              "      <td>1856.3350</td>\n",
              "      <td>537.3831</td>\n",
              "      <td>27.9759</td>\n",
              "      <td>1</td>\n",
              "    </tr>\n",
              "  </tbody>\n",
              "</table>\n",
              "</div>"
            ],
            "text/plain": [
              "          DEPTH       RHOB        DT       GR  FACIES\n",
              "9675  1499.2500  1787.5444  532.1727  27.6273       1\n",
              "9676  1499.4000  1814.1691  534.8610  28.5281       1\n",
              "9677  1499.5500  1861.6497  537.1902  28.5813       1\n",
              "9678  1499.7001  1880.3978  537.2630  28.5813       1\n",
              "9679  1499.8501  1856.3350  537.3831  27.9759       1"
            ]
          },
          "metadata": {
            "tags": []
          }
        },
        {
          "output_type": "stream",
          "text": [
            "====================================================================================================\n"
          ],
          "name": "stdout"
        },
        {
          "output_type": "display_data",
          "data": {
            "application/vnd.google.colaboratory.intrinsic+json": {
              "type": "string"
            },
            "text/plain": [
              "'Samples : '"
            ]
          },
          "metadata": {
            "tags": []
          }
        },
        {
          "output_type": "display_data",
          "data": {
            "text/html": [
              "<div>\n",
              "<style scoped>\n",
              "    .dataframe tbody tr th:only-of-type {\n",
              "        vertical-align: middle;\n",
              "    }\n",
              "\n",
              "    .dataframe tbody tr th {\n",
              "        vertical-align: top;\n",
              "    }\n",
              "\n",
              "    .dataframe thead th {\n",
              "        text-align: right;\n",
              "    }\n",
              "</style>\n",
              "<table border=\"1\" class=\"dataframe\">\n",
              "  <thead>\n",
              "    <tr style=\"text-align: right;\">\n",
              "      <th></th>\n",
              "      <th>DEPTH</th>\n",
              "      <th>RHOB</th>\n",
              "      <th>DT</th>\n",
              "      <th>GR</th>\n",
              "      <th>FACIES</th>\n",
              "    </tr>\n",
              "  </thead>\n",
              "  <tbody>\n",
              "    <tr>\n",
              "      <th>8188</th>\n",
              "      <td>1276.2001</td>\n",
              "      <td>2060.3833</td>\n",
              "      <td>511.5146</td>\n",
              "      <td>95.9229</td>\n",
              "      <td>4</td>\n",
              "    </tr>\n",
              "    <tr>\n",
              "      <th>1281</th>\n",
              "      <td>240.1500</td>\n",
              "      <td>NaN</td>\n",
              "      <td>514.5923</td>\n",
              "      <td>14.3805</td>\n",
              "      <td>1</td>\n",
              "    </tr>\n",
              "    <tr>\n",
              "      <th>1400</th>\n",
              "      <td>258.0000</td>\n",
              "      <td>NaN</td>\n",
              "      <td>513.7138</td>\n",
              "      <td>20.6676</td>\n",
              "      <td>1</td>\n",
              "    </tr>\n",
              "    <tr>\n",
              "      <th>1536</th>\n",
              "      <td>278.4000</td>\n",
              "      <td>1389.6108</td>\n",
              "      <td>512.7100</td>\n",
              "      <td>15.9809</td>\n",
              "      <td>1</td>\n",
              "    </tr>\n",
              "    <tr>\n",
              "      <th>4257</th>\n",
              "      <td>686.5500</td>\n",
              "      <td>2093.3601</td>\n",
              "      <td>510.6541</td>\n",
              "      <td>82.1184</td>\n",
              "      <td>3</td>\n",
              "    </tr>\n",
              "    <tr>\n",
              "      <th>2235</th>\n",
              "      <td>383.2500</td>\n",
              "      <td>1374.5321</td>\n",
              "      <td>529.8866</td>\n",
              "      <td>22.7322</td>\n",
              "      <td>1</td>\n",
              "    </tr>\n",
              "    <tr>\n",
              "      <th>3373</th>\n",
              "      <td>553.9500</td>\n",
              "      <td>2078.4504</td>\n",
              "      <td>512.7922</td>\n",
              "      <td>80.1600</td>\n",
              "      <td>3</td>\n",
              "    </tr>\n",
              "    <tr>\n",
              "      <th>6567</th>\n",
              "      <td>1033.0500</td>\n",
              "      <td>2247.0095</td>\n",
              "      <td>399.5771</td>\n",
              "      <td>52.1913</td>\n",
              "      <td>1</td>\n",
              "    </tr>\n",
              "    <tr>\n",
              "      <th>4416</th>\n",
              "      <td>710.4000</td>\n",
              "      <td>2088.5798</td>\n",
              "      <td>483.1253</td>\n",
              "      <td>83.3015</td>\n",
              "      <td>3</td>\n",
              "    </tr>\n",
              "    <tr>\n",
              "      <th>4477</th>\n",
              "      <td>719.5500</td>\n",
              "      <td>2105.2830</td>\n",
              "      <td>483.1253</td>\n",
              "      <td>81.9123</td>\n",
              "      <td>3</td>\n",
              "    </tr>\n",
              "  </tbody>\n",
              "</table>\n",
              "</div>"
            ],
            "text/plain": [
              "          DEPTH       RHOB        DT       GR  FACIES\n",
              "8188  1276.2001  2060.3833  511.5146  95.9229       4\n",
              "1281   240.1500        NaN  514.5923  14.3805       1\n",
              "1400   258.0000        NaN  513.7138  20.6676       1\n",
              "1536   278.4000  1389.6108  512.7100  15.9809       1\n",
              "4257   686.5500  2093.3601  510.6541  82.1184       3\n",
              "2235   383.2500  1374.5321  529.8866  22.7322       1\n",
              "3373   553.9500  2078.4504  512.7922  80.1600       3\n",
              "6567  1033.0500  2247.0095  399.5771  52.1913       1\n",
              "4416   710.4000  2088.5798  483.1253  83.3015       3\n",
              "4477   719.5500  2105.2830  483.1253  81.9123       3"
            ]
          },
          "metadata": {
            "tags": []
          }
        }
      ]
    },
    {
      "cell_type": "code",
      "metadata": {
        "colab": {
          "base_uri": "https://localhost:8080/",
          "height": 235
        },
        "id": "hVbbcyeBsuHU",
        "outputId": "a4886fc5-1a40-4c96-853b-6d6d83d182c2"
      },
      "source": [
        "# dataframe preview \n",
        "display(df.info())"
      ],
      "execution_count": null,
      "outputs": [
        {
          "output_type": "stream",
          "text": [
            "<class 'pandas.core.frame.DataFrame'>\n",
            "RangeIndex: 9680 entries, 0 to 9679\n",
            "Data columns (total 5 columns):\n",
            " #   Column  Non-Null Count  Dtype  \n",
            "---  ------  --------------  -----  \n",
            " 0   DEPTH   9680 non-null   float64\n",
            " 1   RHOB    8253 non-null   float64\n",
            " 2   DT      9680 non-null   float64\n",
            " 3   GR      9666 non-null   float64\n",
            " 4   FACIES  9680 non-null   int64  \n",
            "dtypes: float64(4), int64(1)\n",
            "memory usage: 378.2 KB\n"
          ],
          "name": "stdout"
        },
        {
          "output_type": "display_data",
          "data": {
            "text/plain": [
              "None"
            ]
          },
          "metadata": {
            "tags": []
          }
        }
      ]
    },
    {
      "cell_type": "code",
      "metadata": {
        "colab": {
          "base_uri": "https://localhost:8080/",
          "height": 284
        },
        "id": "oxK9fGUmun69",
        "outputId": "bd4a2871-2910-423f-9830-6865a1c02207"
      },
      "source": [
        "# Statisitcal preview of the dataframe \n",
        "df.describe()"
      ],
      "execution_count": null,
      "outputs": [
        {
          "output_type": "execute_result",
          "data": {
            "text/html": [
              "<div>\n",
              "<style scoped>\n",
              "    .dataframe tbody tr th:only-of-type {\n",
              "        vertical-align: middle;\n",
              "    }\n",
              "\n",
              "    .dataframe tbody tr th {\n",
              "        vertical-align: top;\n",
              "    }\n",
              "\n",
              "    .dataframe thead th {\n",
              "        text-align: right;\n",
              "    }\n",
              "</style>\n",
              "<table border=\"1\" class=\"dataframe\">\n",
              "  <thead>\n",
              "    <tr style=\"text-align: right;\">\n",
              "      <th></th>\n",
              "      <th>DEPTH</th>\n",
              "      <th>RHOB</th>\n",
              "      <th>DT</th>\n",
              "      <th>GR</th>\n",
              "      <th>FACIES</th>\n",
              "    </tr>\n",
              "  </thead>\n",
              "  <tbody>\n",
              "    <tr>\n",
              "      <th>count</th>\n",
              "      <td>9680.000000</td>\n",
              "      <td>8253.000000</td>\n",
              "      <td>9680.000000</td>\n",
              "      <td>9666.000000</td>\n",
              "      <td>9680.000000</td>\n",
              "    </tr>\n",
              "    <tr>\n",
              "      <th>mean</th>\n",
              "      <td>773.925016</td>\n",
              "      <td>1975.091074</td>\n",
              "      <td>495.026839</td>\n",
              "      <td>46.613531</td>\n",
              "      <td>2.129132</td>\n",
              "    </tr>\n",
              "    <tr>\n",
              "      <th>std</th>\n",
              "      <td>419.177962</td>\n",
              "      <td>294.677828</td>\n",
              "      <td>50.861145</td>\n",
              "      <td>23.484662</td>\n",
              "      <td>1.009234</td>\n",
              "    </tr>\n",
              "    <tr>\n",
              "      <th>min</th>\n",
              "      <td>48.000000</td>\n",
              "      <td>1350.444700</td>\n",
              "      <td>368.114700</td>\n",
              "      <td>1.339200</td>\n",
              "      <td>1.000000</td>\n",
              "    </tr>\n",
              "    <tr>\n",
              "      <th>25%</th>\n",
              "      <td>410.962500</td>\n",
              "      <td>1812.400000</td>\n",
              "      <td>460.693600</td>\n",
              "      <td>23.527000</td>\n",
              "      <td>1.000000</td>\n",
              "    </tr>\n",
              "    <tr>\n",
              "      <th>50%</th>\n",
              "      <td>773.925000</td>\n",
              "      <td>2096.345000</td>\n",
              "      <td>505.393400</td>\n",
              "      <td>48.765250</td>\n",
              "      <td>3.000000</td>\n",
              "    </tr>\n",
              "    <tr>\n",
              "      <th>75%</th>\n",
              "      <td>1136.887575</td>\n",
              "      <td>2210.906000</td>\n",
              "      <td>521.642300</td>\n",
              "      <td>63.162950</td>\n",
              "      <td>3.000000</td>\n",
              "    </tr>\n",
              "    <tr>\n",
              "      <th>max</th>\n",
              "      <td>1499.850100</td>\n",
              "      <td>2346.629200</td>\n",
              "      <td>667.920800</td>\n",
              "      <td>129.177300</td>\n",
              "      <td>4.000000</td>\n",
              "    </tr>\n",
              "  </tbody>\n",
              "</table>\n",
              "</div>"
            ],
            "text/plain": [
              "             DEPTH         RHOB           DT           GR       FACIES\n",
              "count  9680.000000  8253.000000  9680.000000  9666.000000  9680.000000\n",
              "mean    773.925016  1975.091074   495.026839    46.613531     2.129132\n",
              "std     419.177962   294.677828    50.861145    23.484662     1.009234\n",
              "min      48.000000  1350.444700   368.114700     1.339200     1.000000\n",
              "25%     410.962500  1812.400000   460.693600    23.527000     1.000000\n",
              "50%     773.925000  2096.345000   505.393400    48.765250     3.000000\n",
              "75%    1136.887575  2210.906000   521.642300    63.162950     3.000000\n",
              "max    1499.850100  2346.629200   667.920800   129.177300     4.000000"
            ]
          },
          "metadata": {
            "tags": []
          },
          "execution_count": 6
        }
      ]
    },
    {
      "cell_type": "code",
      "metadata": {
        "colab": {
          "base_uri": "https://localhost:8080/",
          "height": 195
        },
        "id": "mIegsBTmGoF-",
        "outputId": "a0a6e1a9-5411-46c7-f636-b696f64ca4b6"
      },
      "source": [
        "# Statisitcal preview of the dataframe \n",
        "df.describe().T"
      ],
      "execution_count": null,
      "outputs": [
        {
          "output_type": "execute_result",
          "data": {
            "text/html": [
              "<div>\n",
              "<style scoped>\n",
              "    .dataframe tbody tr th:only-of-type {\n",
              "        vertical-align: middle;\n",
              "    }\n",
              "\n",
              "    .dataframe tbody tr th {\n",
              "        vertical-align: top;\n",
              "    }\n",
              "\n",
              "    .dataframe thead th {\n",
              "        text-align: right;\n",
              "    }\n",
              "</style>\n",
              "<table border=\"1\" class=\"dataframe\">\n",
              "  <thead>\n",
              "    <tr style=\"text-align: right;\">\n",
              "      <th></th>\n",
              "      <th>count</th>\n",
              "      <th>mean</th>\n",
              "      <th>std</th>\n",
              "      <th>min</th>\n",
              "      <th>25%</th>\n",
              "      <th>50%</th>\n",
              "      <th>75%</th>\n",
              "      <th>max</th>\n",
              "    </tr>\n",
              "  </thead>\n",
              "  <tbody>\n",
              "    <tr>\n",
              "      <th>DEPTH</th>\n",
              "      <td>9680.0</td>\n",
              "      <td>773.925016</td>\n",
              "      <td>419.177962</td>\n",
              "      <td>48.0000</td>\n",
              "      <td>410.9625</td>\n",
              "      <td>773.92500</td>\n",
              "      <td>1136.887575</td>\n",
              "      <td>1499.8501</td>\n",
              "    </tr>\n",
              "    <tr>\n",
              "      <th>RHOB</th>\n",
              "      <td>8253.0</td>\n",
              "      <td>1975.091074</td>\n",
              "      <td>294.677828</td>\n",
              "      <td>1350.4447</td>\n",
              "      <td>1812.4000</td>\n",
              "      <td>2096.34500</td>\n",
              "      <td>2210.906000</td>\n",
              "      <td>2346.6292</td>\n",
              "    </tr>\n",
              "    <tr>\n",
              "      <th>DT</th>\n",
              "      <td>9680.0</td>\n",
              "      <td>495.026839</td>\n",
              "      <td>50.861145</td>\n",
              "      <td>368.1147</td>\n",
              "      <td>460.6936</td>\n",
              "      <td>505.39340</td>\n",
              "      <td>521.642300</td>\n",
              "      <td>667.9208</td>\n",
              "    </tr>\n",
              "    <tr>\n",
              "      <th>GR</th>\n",
              "      <td>9666.0</td>\n",
              "      <td>46.613531</td>\n",
              "      <td>23.484662</td>\n",
              "      <td>1.3392</td>\n",
              "      <td>23.5270</td>\n",
              "      <td>48.76525</td>\n",
              "      <td>63.162950</td>\n",
              "      <td>129.1773</td>\n",
              "    </tr>\n",
              "    <tr>\n",
              "      <th>FACIES</th>\n",
              "      <td>9680.0</td>\n",
              "      <td>2.129132</td>\n",
              "      <td>1.009234</td>\n",
              "      <td>1.0000</td>\n",
              "      <td>1.0000</td>\n",
              "      <td>3.00000</td>\n",
              "      <td>3.000000</td>\n",
              "      <td>4.0000</td>\n",
              "    </tr>\n",
              "  </tbody>\n",
              "</table>\n",
              "</div>"
            ],
            "text/plain": [
              "         count         mean         std  ...         50%          75%        max\n",
              "DEPTH   9680.0   773.925016  419.177962  ...   773.92500  1136.887575  1499.8501\n",
              "RHOB    8253.0  1975.091074  294.677828  ...  2096.34500  2210.906000  2346.6292\n",
              "DT      9680.0   495.026839   50.861145  ...   505.39340   521.642300   667.9208\n",
              "GR      9666.0    46.613531   23.484662  ...    48.76525    63.162950   129.1773\n",
              "FACIES  9680.0     2.129132    1.009234  ...     3.00000     3.000000     4.0000\n",
              "\n",
              "[5 rows x 8 columns]"
            ]
          },
          "metadata": {
            "tags": []
          },
          "execution_count": 7
        }
      ]
    },
    {
      "cell_type": "code",
      "metadata": {
        "id": "XFs5GinQ2Gwc",
        "colab": {
          "base_uri": "https://localhost:8080/",
          "height": 828
        },
        "outputId": "1a33cfbb-58c9-4a03-9a8b-af6010e04a97"
      },
      "source": [
        "# print columns and index\n",
        "display('columns',df.columns)\n",
        "print(\"=\" * 100)\n",
        "display('index',df.index)\n",
        "print(\"=\" * 100)\n",
        "display('column',df['GR']) # print column\n",
        "\n",
        "print(\"=\" * 100)\n",
        "display('Depth and Facies columns',df[['DEPTH','FACIES']]) # print two columns\n",
        "\n",
        "print(\"=\" * 100)\n",
        "# unique columns\n",
        "display('unique FACIES',df['FACIES'].unique())\n",
        "\n",
        "print(\"=\" * 100)\n"
      ],
      "execution_count": null,
      "outputs": [
        {
          "output_type": "display_data",
          "data": {
            "application/vnd.google.colaboratory.intrinsic+json": {
              "type": "string"
            },
            "text/plain": [
              "'columns'"
            ]
          },
          "metadata": {
            "tags": []
          }
        },
        {
          "output_type": "display_data",
          "data": {
            "text/plain": [
              "Index(['DEPTH', 'RHOB', 'DT', 'GR', 'FACIES'], dtype='object')"
            ]
          },
          "metadata": {
            "tags": []
          }
        },
        {
          "output_type": "stream",
          "text": [
            "====================================================================================================\n"
          ],
          "name": "stdout"
        },
        {
          "output_type": "display_data",
          "data": {
            "application/vnd.google.colaboratory.intrinsic+json": {
              "type": "string"
            },
            "text/plain": [
              "'index'"
            ]
          },
          "metadata": {
            "tags": []
          }
        },
        {
          "output_type": "display_data",
          "data": {
            "text/plain": [
              "RangeIndex(start=0, stop=9680, step=1)"
            ]
          },
          "metadata": {
            "tags": []
          }
        },
        {
          "output_type": "stream",
          "text": [
            "====================================================================================================\n"
          ],
          "name": "stdout"
        },
        {
          "output_type": "display_data",
          "data": {
            "application/vnd.google.colaboratory.intrinsic+json": {
              "type": "string"
            },
            "text/plain": [
              "'column'"
            ]
          },
          "metadata": {
            "tags": []
          }
        },
        {
          "output_type": "display_data",
          "data": {
            "text/plain": [
              "0           NaN\n",
              "1           NaN\n",
              "2           NaN\n",
              "3           NaN\n",
              "4           NaN\n",
              "         ...   \n",
              "9675    27.6273\n",
              "9676    28.5281\n",
              "9677    28.5813\n",
              "9678    28.5813\n",
              "9679    27.9759\n",
              "Name: GR, Length: 9680, dtype: float64"
            ]
          },
          "metadata": {
            "tags": []
          }
        },
        {
          "output_type": "stream",
          "text": [
            "====================================================================================================\n"
          ],
          "name": "stdout"
        },
        {
          "output_type": "display_data",
          "data": {
            "application/vnd.google.colaboratory.intrinsic+json": {
              "type": "string"
            },
            "text/plain": [
              "'Depth and Facies columns'"
            ]
          },
          "metadata": {
            "tags": []
          }
        },
        {
          "output_type": "display_data",
          "data": {
            "text/html": [
              "<div>\n",
              "<style scoped>\n",
              "    .dataframe tbody tr th:only-of-type {\n",
              "        vertical-align: middle;\n",
              "    }\n",
              "\n",
              "    .dataframe tbody tr th {\n",
              "        vertical-align: top;\n",
              "    }\n",
              "\n",
              "    .dataframe thead th {\n",
              "        text-align: right;\n",
              "    }\n",
              "</style>\n",
              "<table border=\"1\" class=\"dataframe\">\n",
              "  <thead>\n",
              "    <tr style=\"text-align: right;\">\n",
              "      <th></th>\n",
              "      <th>DEPTH</th>\n",
              "      <th>FACIES</th>\n",
              "    </tr>\n",
              "  </thead>\n",
              "  <tbody>\n",
              "    <tr>\n",
              "      <th>0</th>\n",
              "      <td>48.0000</td>\n",
              "      <td>1</td>\n",
              "    </tr>\n",
              "    <tr>\n",
              "      <th>1</th>\n",
              "      <td>48.1500</td>\n",
              "      <td>1</td>\n",
              "    </tr>\n",
              "    <tr>\n",
              "      <th>2</th>\n",
              "      <td>48.3000</td>\n",
              "      <td>1</td>\n",
              "    </tr>\n",
              "    <tr>\n",
              "      <th>3</th>\n",
              "      <td>48.4500</td>\n",
              "      <td>1</td>\n",
              "    </tr>\n",
              "    <tr>\n",
              "      <th>4</th>\n",
              "      <td>48.6000</td>\n",
              "      <td>1</td>\n",
              "    </tr>\n",
              "    <tr>\n",
              "      <th>...</th>\n",
              "      <td>...</td>\n",
              "      <td>...</td>\n",
              "    </tr>\n",
              "    <tr>\n",
              "      <th>9675</th>\n",
              "      <td>1499.2500</td>\n",
              "      <td>1</td>\n",
              "    </tr>\n",
              "    <tr>\n",
              "      <th>9676</th>\n",
              "      <td>1499.4000</td>\n",
              "      <td>1</td>\n",
              "    </tr>\n",
              "    <tr>\n",
              "      <th>9677</th>\n",
              "      <td>1499.5500</td>\n",
              "      <td>1</td>\n",
              "    </tr>\n",
              "    <tr>\n",
              "      <th>9678</th>\n",
              "      <td>1499.7001</td>\n",
              "      <td>1</td>\n",
              "    </tr>\n",
              "    <tr>\n",
              "      <th>9679</th>\n",
              "      <td>1499.8501</td>\n",
              "      <td>1</td>\n",
              "    </tr>\n",
              "  </tbody>\n",
              "</table>\n",
              "<p>9680 rows × 2 columns</p>\n",
              "</div>"
            ],
            "text/plain": [
              "          DEPTH  FACIES\n",
              "0       48.0000       1\n",
              "1       48.1500       1\n",
              "2       48.3000       1\n",
              "3       48.4500       1\n",
              "4       48.6000       1\n",
              "...         ...     ...\n",
              "9675  1499.2500       1\n",
              "9676  1499.4000       1\n",
              "9677  1499.5500       1\n",
              "9678  1499.7001       1\n",
              "9679  1499.8501       1\n",
              "\n",
              "[9680 rows x 2 columns]"
            ]
          },
          "metadata": {
            "tags": []
          }
        },
        {
          "output_type": "stream",
          "text": [
            "====================================================================================================\n"
          ],
          "name": "stdout"
        },
        {
          "output_type": "display_data",
          "data": {
            "application/vnd.google.colaboratory.intrinsic+json": {
              "type": "string"
            },
            "text/plain": [
              "'unique FACIES'"
            ]
          },
          "metadata": {
            "tags": []
          }
        },
        {
          "output_type": "display_data",
          "data": {
            "text/plain": [
              "array([1, 2, 3, 4])"
            ]
          },
          "metadata": {
            "tags": []
          }
        },
        {
          "output_type": "stream",
          "text": [
            "====================================================================================================\n"
          ],
          "name": "stdout"
        }
      ]
    },
    {
      "cell_type": "code",
      "metadata": {
        "colab": {
          "base_uri": "https://localhost:8080/"
        },
        "id": "UutCnW_Ovklb",
        "outputId": "c8e3a646-b3db-4a44-f4c8-c77430914913"
      },
      "source": [
        "# Dataframe Shape \n",
        "df.shape"
      ],
      "execution_count": null,
      "outputs": [
        {
          "output_type": "execute_result",
          "data": {
            "text/plain": [
              "(9680, 5)"
            ]
          },
          "metadata": {
            "tags": []
          },
          "execution_count": 9
        }
      ]
    },
    {
      "cell_type": "code",
      "metadata": {
        "colab": {
          "base_uri": "https://localhost:8080/"
        },
        "id": "kgNwrmF0vpLy",
        "outputId": "4000a891-8780-436b-f693-9068f204fe89"
      },
      "source": [
        "# Dataframe element access \n",
        "df.at[4, 'DT']"
      ],
      "execution_count": null,
      "outputs": [
        {
          "output_type": "execute_result",
          "data": {
            "text/plain": [
              "524.019"
            ]
          },
          "metadata": {
            "tags": []
          },
          "execution_count": 10
        }
      ]
    },
    {
      "cell_type": "markdown",
      "metadata": {
        "id": "JVY3LcGV2Gwl"
      },
      "source": [
        "# apply operations over dataframe cells"
      ]
    },
    {
      "cell_type": "code",
      "metadata": {
        "id": "8G0sVCwC2Gwm",
        "colab": {
          "base_uri": "https://localhost:8080/",
          "height": 402
        },
        "outputId": "35b24ec2-d2f7-4cc7-d94b-b4a0ac80ba02"
      },
      "source": [
        "# copy the data frame to another data frame \n",
        "df_copied =df.copy()\n",
        "\n",
        "df_copied"
      ],
      "execution_count": null,
      "outputs": [
        {
          "output_type": "execute_result",
          "data": {
            "text/html": [
              "<div>\n",
              "<style scoped>\n",
              "    .dataframe tbody tr th:only-of-type {\n",
              "        vertical-align: middle;\n",
              "    }\n",
              "\n",
              "    .dataframe tbody tr th {\n",
              "        vertical-align: top;\n",
              "    }\n",
              "\n",
              "    .dataframe thead th {\n",
              "        text-align: right;\n",
              "    }\n",
              "</style>\n",
              "<table border=\"1\" class=\"dataframe\">\n",
              "  <thead>\n",
              "    <tr style=\"text-align: right;\">\n",
              "      <th></th>\n",
              "      <th>DEPTH</th>\n",
              "      <th>RHOB</th>\n",
              "      <th>DT</th>\n",
              "      <th>GR</th>\n",
              "      <th>FACIES</th>\n",
              "    </tr>\n",
              "  </thead>\n",
              "  <tbody>\n",
              "    <tr>\n",
              "      <th>0</th>\n",
              "      <td>48.0000</td>\n",
              "      <td>NaN</td>\n",
              "      <td>524.0485</td>\n",
              "      <td>NaN</td>\n",
              "      <td>1</td>\n",
              "    </tr>\n",
              "    <tr>\n",
              "      <th>1</th>\n",
              "      <td>48.1500</td>\n",
              "      <td>NaN</td>\n",
              "      <td>524.0410</td>\n",
              "      <td>NaN</td>\n",
              "      <td>1</td>\n",
              "    </tr>\n",
              "    <tr>\n",
              "      <th>2</th>\n",
              "      <td>48.3000</td>\n",
              "      <td>NaN</td>\n",
              "      <td>524.0336</td>\n",
              "      <td>NaN</td>\n",
              "      <td>1</td>\n",
              "    </tr>\n",
              "    <tr>\n",
              "      <th>3</th>\n",
              "      <td>48.4500</td>\n",
              "      <td>NaN</td>\n",
              "      <td>524.0262</td>\n",
              "      <td>NaN</td>\n",
              "      <td>1</td>\n",
              "    </tr>\n",
              "    <tr>\n",
              "      <th>4</th>\n",
              "      <td>48.6000</td>\n",
              "      <td>NaN</td>\n",
              "      <td>524.0190</td>\n",
              "      <td>NaN</td>\n",
              "      <td>1</td>\n",
              "    </tr>\n",
              "    <tr>\n",
              "      <th>...</th>\n",
              "      <td>...</td>\n",
              "      <td>...</td>\n",
              "      <td>...</td>\n",
              "      <td>...</td>\n",
              "      <td>...</td>\n",
              "    </tr>\n",
              "    <tr>\n",
              "      <th>9675</th>\n",
              "      <td>1499.2500</td>\n",
              "      <td>1787.5444</td>\n",
              "      <td>532.1727</td>\n",
              "      <td>27.6273</td>\n",
              "      <td>1</td>\n",
              "    </tr>\n",
              "    <tr>\n",
              "      <th>9676</th>\n",
              "      <td>1499.4000</td>\n",
              "      <td>1814.1691</td>\n",
              "      <td>534.8610</td>\n",
              "      <td>28.5281</td>\n",
              "      <td>1</td>\n",
              "    </tr>\n",
              "    <tr>\n",
              "      <th>9677</th>\n",
              "      <td>1499.5500</td>\n",
              "      <td>1861.6497</td>\n",
              "      <td>537.1902</td>\n",
              "      <td>28.5813</td>\n",
              "      <td>1</td>\n",
              "    </tr>\n",
              "    <tr>\n",
              "      <th>9678</th>\n",
              "      <td>1499.7001</td>\n",
              "      <td>1880.3978</td>\n",
              "      <td>537.2630</td>\n",
              "      <td>28.5813</td>\n",
              "      <td>1</td>\n",
              "    </tr>\n",
              "    <tr>\n",
              "      <th>9679</th>\n",
              "      <td>1499.8501</td>\n",
              "      <td>1856.3350</td>\n",
              "      <td>537.3831</td>\n",
              "      <td>27.9759</td>\n",
              "      <td>1</td>\n",
              "    </tr>\n",
              "  </tbody>\n",
              "</table>\n",
              "<p>9680 rows × 5 columns</p>\n",
              "</div>"
            ],
            "text/plain": [
              "          DEPTH       RHOB        DT       GR  FACIES\n",
              "0       48.0000        NaN  524.0485      NaN       1\n",
              "1       48.1500        NaN  524.0410      NaN       1\n",
              "2       48.3000        NaN  524.0336      NaN       1\n",
              "3       48.4500        NaN  524.0262      NaN       1\n",
              "4       48.6000        NaN  524.0190      NaN       1\n",
              "...         ...        ...       ...      ...     ...\n",
              "9675  1499.2500  1787.5444  532.1727  27.6273       1\n",
              "9676  1499.4000  1814.1691  534.8610  28.5281       1\n",
              "9677  1499.5500  1861.6497  537.1902  28.5813       1\n",
              "9678  1499.7001  1880.3978  537.2630  28.5813       1\n",
              "9679  1499.8501  1856.3350  537.3831  27.9759       1\n",
              "\n",
              "[9680 rows x 5 columns]"
            ]
          },
          "metadata": {
            "tags": []
          },
          "execution_count": 11
        }
      ]
    },
    {
      "cell_type": "code",
      "metadata": {
        "colab": {
          "base_uri": "https://localhost:8080/",
          "height": 214
        },
        "id": "zDTOemhf3YcR",
        "outputId": "1ef36c15-6951-4166-86c4-9cc788b3f314"
      },
      "source": [
        "# delete column\n",
        "df_copied.drop(['FACIES'],inplace=True, axis= 1)\n",
        "display('after FACIES column delete',df_copied.head())"
      ],
      "execution_count": null,
      "outputs": [
        {
          "output_type": "display_data",
          "data": {
            "application/vnd.google.colaboratory.intrinsic+json": {
              "type": "string"
            },
            "text/plain": [
              "'after FACIES column delete'"
            ]
          },
          "metadata": {
            "tags": []
          }
        },
        {
          "output_type": "display_data",
          "data": {
            "text/html": [
              "<div>\n",
              "<style scoped>\n",
              "    .dataframe tbody tr th:only-of-type {\n",
              "        vertical-align: middle;\n",
              "    }\n",
              "\n",
              "    .dataframe tbody tr th {\n",
              "        vertical-align: top;\n",
              "    }\n",
              "\n",
              "    .dataframe thead th {\n",
              "        text-align: right;\n",
              "    }\n",
              "</style>\n",
              "<table border=\"1\" class=\"dataframe\">\n",
              "  <thead>\n",
              "    <tr style=\"text-align: right;\">\n",
              "      <th></th>\n",
              "      <th>DEPTH</th>\n",
              "      <th>RHOB</th>\n",
              "      <th>DT</th>\n",
              "      <th>GR</th>\n",
              "    </tr>\n",
              "  </thead>\n",
              "  <tbody>\n",
              "    <tr>\n",
              "      <th>0</th>\n",
              "      <td>48.00</td>\n",
              "      <td>NaN</td>\n",
              "      <td>524.0485</td>\n",
              "      <td>NaN</td>\n",
              "    </tr>\n",
              "    <tr>\n",
              "      <th>1</th>\n",
              "      <td>48.15</td>\n",
              "      <td>NaN</td>\n",
              "      <td>524.0410</td>\n",
              "      <td>NaN</td>\n",
              "    </tr>\n",
              "    <tr>\n",
              "      <th>2</th>\n",
              "      <td>48.30</td>\n",
              "      <td>NaN</td>\n",
              "      <td>524.0336</td>\n",
              "      <td>NaN</td>\n",
              "    </tr>\n",
              "    <tr>\n",
              "      <th>3</th>\n",
              "      <td>48.45</td>\n",
              "      <td>NaN</td>\n",
              "      <td>524.0262</td>\n",
              "      <td>NaN</td>\n",
              "    </tr>\n",
              "    <tr>\n",
              "      <th>4</th>\n",
              "      <td>48.60</td>\n",
              "      <td>NaN</td>\n",
              "      <td>524.0190</td>\n",
              "      <td>NaN</td>\n",
              "    </tr>\n",
              "  </tbody>\n",
              "</table>\n",
              "</div>"
            ],
            "text/plain": [
              "   DEPTH  RHOB        DT  GR\n",
              "0  48.00   NaN  524.0485 NaN\n",
              "1  48.15   NaN  524.0410 NaN\n",
              "2  48.30   NaN  524.0336 NaN\n",
              "3  48.45   NaN  524.0262 NaN\n",
              "4  48.60   NaN  524.0190 NaN"
            ]
          },
          "metadata": {
            "tags": []
          }
        }
      ]
    },
    {
      "cell_type": "code",
      "metadata": {
        "colab": {
          "base_uri": "https://localhost:8080/"
        },
        "id": "hwm0TJLSx2kU",
        "outputId": "9355b65a-181d-4ac6-96d7-e318f748c68a"
      },
      "source": [
        "# slice dataframe by loc method \n",
        "\n",
        "df_copied.loc[200]"
      ],
      "execution_count": null,
      "outputs": [
        {
          "output_type": "execute_result",
          "data": {
            "text/plain": [
              "DEPTH     78.0000\n",
              "RHOB          NaN\n",
              "DT       522.5719\n",
              "GR         6.4524\n",
              "Name: 200, dtype: float64"
            ]
          },
          "metadata": {
            "tags": []
          },
          "execution_count": 13
        }
      ]
    },
    {
      "cell_type": "code",
      "metadata": {
        "colab": {
          "base_uri": "https://localhost:8080/"
        },
        "id": "mjml4o3syBIv",
        "outputId": "f4ef7a6d-8e24-4625-cda0-086b659e4306"
      },
      "source": [
        "# Slice dataframe by column name \n",
        "df_copied.GR"
      ],
      "execution_count": null,
      "outputs": [
        {
          "output_type": "execute_result",
          "data": {
            "text/plain": [
              "0           NaN\n",
              "1           NaN\n",
              "2           NaN\n",
              "3           NaN\n",
              "4           NaN\n",
              "         ...   \n",
              "9675    27.6273\n",
              "9676    28.5281\n",
              "9677    28.5813\n",
              "9678    28.5813\n",
              "9679    27.9759\n",
              "Name: GR, Length: 9680, dtype: float64"
            ]
          },
          "metadata": {
            "tags": []
          },
          "execution_count": 14
        }
      ]
    },
    {
      "cell_type": "code",
      "metadata": {
        "colab": {
          "base_uri": "https://localhost:8080/"
        },
        "id": "nAu__T5lyNh3",
        "outputId": "369b6ce7-dbf9-4952-a02c-46f7ab1ae7ab"
      },
      "source": [
        "df_copied['GR']"
      ],
      "execution_count": null,
      "outputs": [
        {
          "output_type": "execute_result",
          "data": {
            "text/plain": [
              "0           NaN\n",
              "1           NaN\n",
              "2           NaN\n",
              "3           NaN\n",
              "4           NaN\n",
              "         ...   \n",
              "9675    27.6273\n",
              "9676    28.5281\n",
              "9677    28.5813\n",
              "9678    28.5813\n",
              "9679    27.9759\n",
              "Name: GR, Length: 9680, dtype: float64"
            ]
          },
          "metadata": {
            "tags": []
          },
          "execution_count": 15
        }
      ]
    },
    {
      "cell_type": "code",
      "metadata": {
        "colab": {
          "base_uri": "https://localhost:8080/"
        },
        "id": "bAa8fabOyUpM",
        "outputId": "487d3f69-b8a4-4f90-c908-56ba1578be29"
      },
      "source": [
        "df_copied['GR'][200]"
      ],
      "execution_count": null,
      "outputs": [
        {
          "output_type": "execute_result",
          "data": {
            "text/plain": [
              "6.4524"
            ]
          },
          "metadata": {
            "tags": []
          },
          "execution_count": 16
        }
      ]
    },
    {
      "cell_type": "code",
      "metadata": {
        "id": "R8ex8ABV2Gwr",
        "colab": {
          "base_uri": "https://localhost:8080/",
          "height": 195
        },
        "outputId": "9020c7da-ce1d-4845-8526-894ad2662b66"
      },
      "source": [
        "# apply custom function\n",
        "def shale(GR):\n",
        "    return 'SHALE' if GR >=50 else 'SAND'\n",
        "\n",
        "    \n",
        "df_copied['Shale/SD']=df_copied['GR'].apply(shale)\n",
        "df_copied.sample(5)\n",
        "# quiz modify quiz to check if digits sum is even or odd"
      ],
      "execution_count": null,
      "outputs": [
        {
          "output_type": "execute_result",
          "data": {
            "text/html": [
              "<div>\n",
              "<style scoped>\n",
              "    .dataframe tbody tr th:only-of-type {\n",
              "        vertical-align: middle;\n",
              "    }\n",
              "\n",
              "    .dataframe tbody tr th {\n",
              "        vertical-align: top;\n",
              "    }\n",
              "\n",
              "    .dataframe thead th {\n",
              "        text-align: right;\n",
              "    }\n",
              "</style>\n",
              "<table border=\"1\" class=\"dataframe\">\n",
              "  <thead>\n",
              "    <tr style=\"text-align: right;\">\n",
              "      <th></th>\n",
              "      <th>DEPTH</th>\n",
              "      <th>RHOB</th>\n",
              "      <th>DT</th>\n",
              "      <th>GR</th>\n",
              "      <th>Shale/SD</th>\n",
              "    </tr>\n",
              "  </thead>\n",
              "  <tbody>\n",
              "    <tr>\n",
              "      <th>4600</th>\n",
              "      <td>738.0000</td>\n",
              "      <td>2123.8567</td>\n",
              "      <td>483.1253</td>\n",
              "      <td>82.3734</td>\n",
              "      <td>SHALE</td>\n",
              "    </tr>\n",
              "    <tr>\n",
              "      <th>8104</th>\n",
              "      <td>1263.6001</td>\n",
              "      <td>2061.3315</td>\n",
              "      <td>498.2005</td>\n",
              "      <td>66.9056</td>\n",
              "      <td>SHALE</td>\n",
              "    </tr>\n",
              "    <tr>\n",
              "      <th>1727</th>\n",
              "      <td>307.0500</td>\n",
              "      <td>1934.6918</td>\n",
              "      <td>533.4880</td>\n",
              "      <td>18.1601</td>\n",
              "      <td>SAND</td>\n",
              "    </tr>\n",
              "    <tr>\n",
              "      <th>2859</th>\n",
              "      <td>476.8500</td>\n",
              "      <td>1366.1104</td>\n",
              "      <td>663.0062</td>\n",
              "      <td>19.3955</td>\n",
              "      <td>SAND</td>\n",
              "    </tr>\n",
              "    <tr>\n",
              "      <th>6022</th>\n",
              "      <td>951.3000</td>\n",
              "      <td>2226.3005</td>\n",
              "      <td>431.1858</td>\n",
              "      <td>49.7024</td>\n",
              "      <td>SAND</td>\n",
              "    </tr>\n",
              "  </tbody>\n",
              "</table>\n",
              "</div>"
            ],
            "text/plain": [
              "          DEPTH       RHOB        DT       GR Shale/SD\n",
              "4600   738.0000  2123.8567  483.1253  82.3734    SHALE\n",
              "8104  1263.6001  2061.3315  498.2005  66.9056    SHALE\n",
              "1727   307.0500  1934.6918  533.4880  18.1601     SAND\n",
              "2859   476.8500  1366.1104  663.0062  19.3955     SAND\n",
              "6022   951.3000  2226.3005  431.1858  49.7024     SAND"
            ]
          },
          "metadata": {
            "tags": []
          },
          "execution_count": 17
        }
      ]
    },
    {
      "cell_type": "markdown",
      "metadata": {
        "id": "lDG8JIT52Gwx"
      },
      "source": [
        "# Convert A Categorical Variable Into Dummy Variables"
      ]
    },
    {
      "cell_type": "code",
      "metadata": {
        "id": "yGVIs5yd2Gw4",
        "colab": {
          "base_uri": "https://localhost:8080/",
          "height": 195
        },
        "outputId": "f69815f0-1e10-407d-a35b-698930a9cd5e"
      },
      "source": [
        "# Create a set of dummy variables from the sex variable\n",
        "df_dummy = pd.get_dummies(df['FACIES'])\n",
        "df_dummy.sample(5)"
      ],
      "execution_count": null,
      "outputs": [
        {
          "output_type": "execute_result",
          "data": {
            "text/html": [
              "<div>\n",
              "<style scoped>\n",
              "    .dataframe tbody tr th:only-of-type {\n",
              "        vertical-align: middle;\n",
              "    }\n",
              "\n",
              "    .dataframe tbody tr th {\n",
              "        vertical-align: top;\n",
              "    }\n",
              "\n",
              "    .dataframe thead th {\n",
              "        text-align: right;\n",
              "    }\n",
              "</style>\n",
              "<table border=\"1\" class=\"dataframe\">\n",
              "  <thead>\n",
              "    <tr style=\"text-align: right;\">\n",
              "      <th></th>\n",
              "      <th>1</th>\n",
              "      <th>2</th>\n",
              "      <th>3</th>\n",
              "      <th>4</th>\n",
              "    </tr>\n",
              "  </thead>\n",
              "  <tbody>\n",
              "    <tr>\n",
              "      <th>5395</th>\n",
              "      <td>0</td>\n",
              "      <td>0</td>\n",
              "      <td>1</td>\n",
              "      <td>0</td>\n",
              "    </tr>\n",
              "    <tr>\n",
              "      <th>6684</th>\n",
              "      <td>1</td>\n",
              "      <td>0</td>\n",
              "      <td>0</td>\n",
              "      <td>0</td>\n",
              "    </tr>\n",
              "    <tr>\n",
              "      <th>2012</th>\n",
              "      <td>1</td>\n",
              "      <td>0</td>\n",
              "      <td>0</td>\n",
              "      <td>0</td>\n",
              "    </tr>\n",
              "    <tr>\n",
              "      <th>3122</th>\n",
              "      <td>0</td>\n",
              "      <td>1</td>\n",
              "      <td>0</td>\n",
              "      <td>0</td>\n",
              "    </tr>\n",
              "    <tr>\n",
              "      <th>9597</th>\n",
              "      <td>1</td>\n",
              "      <td>0</td>\n",
              "      <td>0</td>\n",
              "      <td>0</td>\n",
              "    </tr>\n",
              "  </tbody>\n",
              "</table>\n",
              "</div>"
            ],
            "text/plain": [
              "      1  2  3  4\n",
              "5395  0  0  1  0\n",
              "6684  1  0  0  0\n",
              "2012  1  0  0  0\n",
              "3122  0  1  0  0\n",
              "9597  1  0  0  0"
            ]
          },
          "metadata": {
            "tags": []
          },
          "execution_count": 18
        }
      ]
    },
    {
      "cell_type": "markdown",
      "metadata": {
        "id": "bhdbNs5f2GxA"
      },
      "source": [
        "# Join And Merge Pandas Dataframe"
      ]
    },
    {
      "cell_type": "code",
      "metadata": {
        "id": "W5AF_UmD2Gw9",
        "colab": {
          "base_uri": "https://localhost:8080/",
          "height": 195
        },
        "outputId": "e25e0218-d89e-42e1-8e34-c3fd265a6c65"
      },
      "source": [
        "# Join the dummy variables to the main dataframe\n",
        "# Concat function ()\n",
        "df_new = pd.concat([df, df_dummy], axis=1)\n",
        "df_new.sample(5)"
      ],
      "execution_count": null,
      "outputs": [
        {
          "output_type": "execute_result",
          "data": {
            "text/html": [
              "<div>\n",
              "<style scoped>\n",
              "    .dataframe tbody tr th:only-of-type {\n",
              "        vertical-align: middle;\n",
              "    }\n",
              "\n",
              "    .dataframe tbody tr th {\n",
              "        vertical-align: top;\n",
              "    }\n",
              "\n",
              "    .dataframe thead th {\n",
              "        text-align: right;\n",
              "    }\n",
              "</style>\n",
              "<table border=\"1\" class=\"dataframe\">\n",
              "  <thead>\n",
              "    <tr style=\"text-align: right;\">\n",
              "      <th></th>\n",
              "      <th>DEPTH</th>\n",
              "      <th>RHOB</th>\n",
              "      <th>DT</th>\n",
              "      <th>GR</th>\n",
              "      <th>FACIES</th>\n",
              "      <th>1</th>\n",
              "      <th>2</th>\n",
              "      <th>3</th>\n",
              "      <th>4</th>\n",
              "    </tr>\n",
              "  </thead>\n",
              "  <tbody>\n",
              "    <tr>\n",
              "      <th>105</th>\n",
              "      <td>63.7500</td>\n",
              "      <td>NaN</td>\n",
              "      <td>523.2734</td>\n",
              "      <td>5.2920</td>\n",
              "      <td>1</td>\n",
              "      <td>1</td>\n",
              "      <td>0</td>\n",
              "      <td>0</td>\n",
              "      <td>0</td>\n",
              "    </tr>\n",
              "    <tr>\n",
              "      <th>8378</th>\n",
              "      <td>1304.7001</td>\n",
              "      <td>1829.6437</td>\n",
              "      <td>487.7810</td>\n",
              "      <td>55.0579</td>\n",
              "      <td>3</td>\n",
              "      <td>0</td>\n",
              "      <td>0</td>\n",
              "      <td>1</td>\n",
              "      <td>0</td>\n",
              "    </tr>\n",
              "    <tr>\n",
              "      <th>8269</th>\n",
              "      <td>1288.3501</td>\n",
              "      <td>1792.2943</td>\n",
              "      <td>501.9811</td>\n",
              "      <td>49.1087</td>\n",
              "      <td>4</td>\n",
              "      <td>0</td>\n",
              "      <td>0</td>\n",
              "      <td>0</td>\n",
              "      <td>1</td>\n",
              "    </tr>\n",
              "    <tr>\n",
              "      <th>9290</th>\n",
              "      <td>1441.5000</td>\n",
              "      <td>2083.2261</td>\n",
              "      <td>537.8111</td>\n",
              "      <td>50.9161</td>\n",
              "      <td>1</td>\n",
              "      <td>1</td>\n",
              "      <td>0</td>\n",
              "      <td>0</td>\n",
              "      <td>0</td>\n",
              "    </tr>\n",
              "    <tr>\n",
              "      <th>4328</th>\n",
              "      <td>697.2000</td>\n",
              "      <td>1851.5688</td>\n",
              "      <td>516.0769</td>\n",
              "      <td>124.7157</td>\n",
              "      <td>4</td>\n",
              "      <td>0</td>\n",
              "      <td>0</td>\n",
              "      <td>0</td>\n",
              "      <td>1</td>\n",
              "    </tr>\n",
              "  </tbody>\n",
              "</table>\n",
              "</div>"
            ],
            "text/plain": [
              "          DEPTH       RHOB        DT        GR  FACIES  1  2  3  4\n",
              "105     63.7500        NaN  523.2734    5.2920       1  1  0  0  0\n",
              "8378  1304.7001  1829.6437  487.7810   55.0579       3  0  0  1  0\n",
              "8269  1288.3501  1792.2943  501.9811   49.1087       4  0  0  0  1\n",
              "9290  1441.5000  2083.2261  537.8111   50.9161       1  1  0  0  0\n",
              "4328   697.2000  1851.5688  516.0769  124.7157       4  0  0  0  1"
            ]
          },
          "metadata": {
            "tags": []
          },
          "execution_count": 19
        }
      ]
    },
    {
      "cell_type": "markdown",
      "metadata": {
        "id": "mkNfAqSZ2Gxg"
      },
      "source": [
        "# Handle Missing Values"
      ]
    },
    {
      "cell_type": "code",
      "metadata": {
        "id": "I2ypMH695igV",
        "colab": {
          "base_uri": "https://localhost:8080/",
          "height": 402
        },
        "outputId": "5928edf4-99a7-470b-fb87-82de9fbd5767"
      },
      "source": [
        "# Display NAN Values Summation\n",
        "df.isna()"
      ],
      "execution_count": null,
      "outputs": [
        {
          "output_type": "execute_result",
          "data": {
            "text/html": [
              "<div>\n",
              "<style scoped>\n",
              "    .dataframe tbody tr th:only-of-type {\n",
              "        vertical-align: middle;\n",
              "    }\n",
              "\n",
              "    .dataframe tbody tr th {\n",
              "        vertical-align: top;\n",
              "    }\n",
              "\n",
              "    .dataframe thead th {\n",
              "        text-align: right;\n",
              "    }\n",
              "</style>\n",
              "<table border=\"1\" class=\"dataframe\">\n",
              "  <thead>\n",
              "    <tr style=\"text-align: right;\">\n",
              "      <th></th>\n",
              "      <th>DEPTH</th>\n",
              "      <th>RHOB</th>\n",
              "      <th>DT</th>\n",
              "      <th>GR</th>\n",
              "      <th>FACIES</th>\n",
              "    </tr>\n",
              "  </thead>\n",
              "  <tbody>\n",
              "    <tr>\n",
              "      <th>0</th>\n",
              "      <td>False</td>\n",
              "      <td>True</td>\n",
              "      <td>False</td>\n",
              "      <td>True</td>\n",
              "      <td>False</td>\n",
              "    </tr>\n",
              "    <tr>\n",
              "      <th>1</th>\n",
              "      <td>False</td>\n",
              "      <td>True</td>\n",
              "      <td>False</td>\n",
              "      <td>True</td>\n",
              "      <td>False</td>\n",
              "    </tr>\n",
              "    <tr>\n",
              "      <th>2</th>\n",
              "      <td>False</td>\n",
              "      <td>True</td>\n",
              "      <td>False</td>\n",
              "      <td>True</td>\n",
              "      <td>False</td>\n",
              "    </tr>\n",
              "    <tr>\n",
              "      <th>3</th>\n",
              "      <td>False</td>\n",
              "      <td>True</td>\n",
              "      <td>False</td>\n",
              "      <td>True</td>\n",
              "      <td>False</td>\n",
              "    </tr>\n",
              "    <tr>\n",
              "      <th>4</th>\n",
              "      <td>False</td>\n",
              "      <td>True</td>\n",
              "      <td>False</td>\n",
              "      <td>True</td>\n",
              "      <td>False</td>\n",
              "    </tr>\n",
              "    <tr>\n",
              "      <th>...</th>\n",
              "      <td>...</td>\n",
              "      <td>...</td>\n",
              "      <td>...</td>\n",
              "      <td>...</td>\n",
              "      <td>...</td>\n",
              "    </tr>\n",
              "    <tr>\n",
              "      <th>9675</th>\n",
              "      <td>False</td>\n",
              "      <td>False</td>\n",
              "      <td>False</td>\n",
              "      <td>False</td>\n",
              "      <td>False</td>\n",
              "    </tr>\n",
              "    <tr>\n",
              "      <th>9676</th>\n",
              "      <td>False</td>\n",
              "      <td>False</td>\n",
              "      <td>False</td>\n",
              "      <td>False</td>\n",
              "      <td>False</td>\n",
              "    </tr>\n",
              "    <tr>\n",
              "      <th>9677</th>\n",
              "      <td>False</td>\n",
              "      <td>False</td>\n",
              "      <td>False</td>\n",
              "      <td>False</td>\n",
              "      <td>False</td>\n",
              "    </tr>\n",
              "    <tr>\n",
              "      <th>9678</th>\n",
              "      <td>False</td>\n",
              "      <td>False</td>\n",
              "      <td>False</td>\n",
              "      <td>False</td>\n",
              "      <td>False</td>\n",
              "    </tr>\n",
              "    <tr>\n",
              "      <th>9679</th>\n",
              "      <td>False</td>\n",
              "      <td>False</td>\n",
              "      <td>False</td>\n",
              "      <td>False</td>\n",
              "      <td>False</td>\n",
              "    </tr>\n",
              "  </tbody>\n",
              "</table>\n",
              "<p>9680 rows × 5 columns</p>\n",
              "</div>"
            ],
            "text/plain": [
              "      DEPTH   RHOB     DT     GR  FACIES\n",
              "0     False   True  False   True   False\n",
              "1     False   True  False   True   False\n",
              "2     False   True  False   True   False\n",
              "3     False   True  False   True   False\n",
              "4     False   True  False   True   False\n",
              "...     ...    ...    ...    ...     ...\n",
              "9675  False  False  False  False   False\n",
              "9676  False  False  False  False   False\n",
              "9677  False  False  False  False   False\n",
              "9678  False  False  False  False   False\n",
              "9679  False  False  False  False   False\n",
              "\n",
              "[9680 rows x 5 columns]"
            ]
          },
          "metadata": {
            "tags": []
          },
          "execution_count": 20
        }
      ]
    },
    {
      "cell_type": "code",
      "metadata": {
        "colab": {
          "base_uri": "https://localhost:8080/"
        },
        "id": "j-dOtz7469QR",
        "outputId": "331a6115-d9c9-40dd-d458-6c3109c5bf28"
      },
      "source": [
        "df_new.isna().sum()"
      ],
      "execution_count": null,
      "outputs": [
        {
          "output_type": "execute_result",
          "data": {
            "text/plain": [
              "DEPTH        0\n",
              "RHOB      1427\n",
              "DT           0\n",
              "GR          14\n",
              "FACIES       0\n",
              "1            0\n",
              "2            0\n",
              "3            0\n",
              "4            0\n",
              "dtype: int64"
            ]
          },
          "metadata": {
            "tags": []
          },
          "execution_count": 21
        }
      ]
    },
    {
      "cell_type": "code",
      "metadata": {
        "id": "YIsDfFNO2Gxh",
        "colab": {
          "base_uri": "https://localhost:8080/",
          "height": 420
        },
        "outputId": "000e5f1e-08eb-44b2-8d45-cb57db34e538"
      },
      "source": [
        "# Fill in NA values by mean values \n",
        "df['GR']=df['GR'].fillna(df['GR'].mean())\n",
        "display('after filling nans',df)\n",
        "# we can also fill with median , min , max, fillna(method='ffill'),fillna(method='bfill')????"
      ],
      "execution_count": null,
      "outputs": [
        {
          "output_type": "display_data",
          "data": {
            "application/vnd.google.colaboratory.intrinsic+json": {
              "type": "string"
            },
            "text/plain": [
              "'after filling nans'"
            ]
          },
          "metadata": {
            "tags": []
          }
        },
        {
          "output_type": "display_data",
          "data": {
            "text/html": [
              "<div>\n",
              "<style scoped>\n",
              "    .dataframe tbody tr th:only-of-type {\n",
              "        vertical-align: middle;\n",
              "    }\n",
              "\n",
              "    .dataframe tbody tr th {\n",
              "        vertical-align: top;\n",
              "    }\n",
              "\n",
              "    .dataframe thead th {\n",
              "        text-align: right;\n",
              "    }\n",
              "</style>\n",
              "<table border=\"1\" class=\"dataframe\">\n",
              "  <thead>\n",
              "    <tr style=\"text-align: right;\">\n",
              "      <th></th>\n",
              "      <th>DEPTH</th>\n",
              "      <th>RHOB</th>\n",
              "      <th>DT</th>\n",
              "      <th>GR</th>\n",
              "      <th>FACIES</th>\n",
              "    </tr>\n",
              "  </thead>\n",
              "  <tbody>\n",
              "    <tr>\n",
              "      <th>0</th>\n",
              "      <td>48.0000</td>\n",
              "      <td>NaN</td>\n",
              "      <td>524.0485</td>\n",
              "      <td>46.613531</td>\n",
              "      <td>1</td>\n",
              "    </tr>\n",
              "    <tr>\n",
              "      <th>1</th>\n",
              "      <td>48.1500</td>\n",
              "      <td>NaN</td>\n",
              "      <td>524.0410</td>\n",
              "      <td>46.613531</td>\n",
              "      <td>1</td>\n",
              "    </tr>\n",
              "    <tr>\n",
              "      <th>2</th>\n",
              "      <td>48.3000</td>\n",
              "      <td>NaN</td>\n",
              "      <td>524.0336</td>\n",
              "      <td>46.613531</td>\n",
              "      <td>1</td>\n",
              "    </tr>\n",
              "    <tr>\n",
              "      <th>3</th>\n",
              "      <td>48.4500</td>\n",
              "      <td>NaN</td>\n",
              "      <td>524.0262</td>\n",
              "      <td>46.613531</td>\n",
              "      <td>1</td>\n",
              "    </tr>\n",
              "    <tr>\n",
              "      <th>4</th>\n",
              "      <td>48.6000</td>\n",
              "      <td>NaN</td>\n",
              "      <td>524.0190</td>\n",
              "      <td>46.613531</td>\n",
              "      <td>1</td>\n",
              "    </tr>\n",
              "    <tr>\n",
              "      <th>...</th>\n",
              "      <td>...</td>\n",
              "      <td>...</td>\n",
              "      <td>...</td>\n",
              "      <td>...</td>\n",
              "      <td>...</td>\n",
              "    </tr>\n",
              "    <tr>\n",
              "      <th>9675</th>\n",
              "      <td>1499.2500</td>\n",
              "      <td>1787.5444</td>\n",
              "      <td>532.1727</td>\n",
              "      <td>27.627300</td>\n",
              "      <td>1</td>\n",
              "    </tr>\n",
              "    <tr>\n",
              "      <th>9676</th>\n",
              "      <td>1499.4000</td>\n",
              "      <td>1814.1691</td>\n",
              "      <td>534.8610</td>\n",
              "      <td>28.528100</td>\n",
              "      <td>1</td>\n",
              "    </tr>\n",
              "    <tr>\n",
              "      <th>9677</th>\n",
              "      <td>1499.5500</td>\n",
              "      <td>1861.6497</td>\n",
              "      <td>537.1902</td>\n",
              "      <td>28.581300</td>\n",
              "      <td>1</td>\n",
              "    </tr>\n",
              "    <tr>\n",
              "      <th>9678</th>\n",
              "      <td>1499.7001</td>\n",
              "      <td>1880.3978</td>\n",
              "      <td>537.2630</td>\n",
              "      <td>28.581300</td>\n",
              "      <td>1</td>\n",
              "    </tr>\n",
              "    <tr>\n",
              "      <th>9679</th>\n",
              "      <td>1499.8501</td>\n",
              "      <td>1856.3350</td>\n",
              "      <td>537.3831</td>\n",
              "      <td>27.975900</td>\n",
              "      <td>1</td>\n",
              "    </tr>\n",
              "  </tbody>\n",
              "</table>\n",
              "<p>9680 rows × 5 columns</p>\n",
              "</div>"
            ],
            "text/plain": [
              "          DEPTH       RHOB        DT         GR  FACIES\n",
              "0       48.0000        NaN  524.0485  46.613531       1\n",
              "1       48.1500        NaN  524.0410  46.613531       1\n",
              "2       48.3000        NaN  524.0336  46.613531       1\n",
              "3       48.4500        NaN  524.0262  46.613531       1\n",
              "4       48.6000        NaN  524.0190  46.613531       1\n",
              "...         ...        ...       ...        ...     ...\n",
              "9675  1499.2500  1787.5444  532.1727  27.627300       1\n",
              "9676  1499.4000  1814.1691  534.8610  28.528100       1\n",
              "9677  1499.5500  1861.6497  537.1902  28.581300       1\n",
              "9678  1499.7001  1880.3978  537.2630  28.581300       1\n",
              "9679  1499.8501  1856.3350  537.3831  27.975900       1\n",
              "\n",
              "[9680 rows x 5 columns]"
            ]
          },
          "metadata": {
            "tags": []
          }
        }
      ]
    },
    {
      "cell_type": "code",
      "metadata": {
        "id": "kkTRusT72Gxn",
        "colab": {
          "base_uri": "https://localhost:8080/",
          "height": 86
        },
        "outputId": "5249b6eb-d4dd-4db2-d156-31bbdc4270a4"
      },
      "source": [
        "# we may handle nans by dropping\n",
        "df_dropna = df_copied.copy()\n",
        "display('original df',df_dropna.shape)\n",
        "df_dropna.dropna(inplace=True)\n",
        "display('after removing nans',df_dropna.shape)"
      ],
      "execution_count": null,
      "outputs": [
        {
          "output_type": "display_data",
          "data": {
            "application/vnd.google.colaboratory.intrinsic+json": {
              "type": "string"
            },
            "text/plain": [
              "'original df'"
            ]
          },
          "metadata": {
            "tags": []
          }
        },
        {
          "output_type": "display_data",
          "data": {
            "text/plain": [
              "(9680, 5)"
            ]
          },
          "metadata": {
            "tags": []
          }
        },
        {
          "output_type": "display_data",
          "data": {
            "application/vnd.google.colaboratory.intrinsic+json": {
              "type": "string"
            },
            "text/plain": [
              "'after removing nans'"
            ]
          },
          "metadata": {
            "tags": []
          }
        },
        {
          "output_type": "display_data",
          "data": {
            "text/plain": [
              "(8253, 5)"
            ]
          },
          "metadata": {
            "tags": []
          }
        }
      ]
    },
    {
      "cell_type": "code",
      "metadata": {
        "colab": {
          "base_uri": "https://localhost:8080/",
          "height": 195
        },
        "id": "p_Hiv758XG1x",
        "outputId": "9b835a2d-afda-44a7-97af-4778b46f204d"
      },
      "source": [
        "newdf = df[df.DEPTH >= 125]\n",
        "newdf.head()"
      ],
      "execution_count": null,
      "outputs": [
        {
          "output_type": "execute_result",
          "data": {
            "text/html": [
              "<div>\n",
              "<style scoped>\n",
              "    .dataframe tbody tr th:only-of-type {\n",
              "        vertical-align: middle;\n",
              "    }\n",
              "\n",
              "    .dataframe tbody tr th {\n",
              "        vertical-align: top;\n",
              "    }\n",
              "\n",
              "    .dataframe thead th {\n",
              "        text-align: right;\n",
              "    }\n",
              "</style>\n",
              "<table border=\"1\" class=\"dataframe\">\n",
              "  <thead>\n",
              "    <tr style=\"text-align: right;\">\n",
              "      <th></th>\n",
              "      <th>DEPTH</th>\n",
              "      <th>RHOB</th>\n",
              "      <th>DT</th>\n",
              "      <th>GR</th>\n",
              "      <th>FACIES</th>\n",
              "    </tr>\n",
              "  </thead>\n",
              "  <tbody>\n",
              "    <tr>\n",
              "      <th>514</th>\n",
              "      <td>125.10</td>\n",
              "      <td>NaN</td>\n",
              "      <td>520.2542</td>\n",
              "      <td>23.3284</td>\n",
              "      <td>1</td>\n",
              "    </tr>\n",
              "    <tr>\n",
              "      <th>515</th>\n",
              "      <td>125.25</td>\n",
              "      <td>NaN</td>\n",
              "      <td>520.2468</td>\n",
              "      <td>23.3392</td>\n",
              "      <td>1</td>\n",
              "    </tr>\n",
              "    <tr>\n",
              "      <th>516</th>\n",
              "      <td>125.40</td>\n",
              "      <td>NaN</td>\n",
              "      <td>520.2394</td>\n",
              "      <td>23.3392</td>\n",
              "      <td>1</td>\n",
              "    </tr>\n",
              "    <tr>\n",
              "      <th>517</th>\n",
              "      <td>125.55</td>\n",
              "      <td>NaN</td>\n",
              "      <td>520.2319</td>\n",
              "      <td>22.8231</td>\n",
              "      <td>1</td>\n",
              "    </tr>\n",
              "    <tr>\n",
              "      <th>518</th>\n",
              "      <td>125.70</td>\n",
              "      <td>NaN</td>\n",
              "      <td>520.2245</td>\n",
              "      <td>21.2837</td>\n",
              "      <td>1</td>\n",
              "    </tr>\n",
              "  </tbody>\n",
              "</table>\n",
              "</div>"
            ],
            "text/plain": [
              "      DEPTH  RHOB        DT       GR  FACIES\n",
              "514  125.10   NaN  520.2542  23.3284       1\n",
              "515  125.25   NaN  520.2468  23.3392       1\n",
              "516  125.40   NaN  520.2394  23.3392       1\n",
              "517  125.55   NaN  520.2319  22.8231       1\n",
              "518  125.70   NaN  520.2245  21.2837       1"
            ]
          },
          "metadata": {
            "tags": []
          },
          "execution_count": 42
        }
      ]
    },
    {
      "cell_type": "markdown",
      "metadata": {
        "id": "g_h_HpBW2Gxq"
      },
      "source": [
        "# Data Wrangling"
      ]
    },
    {
      "cell_type": "code",
      "metadata": {
        "colab": {
          "base_uri": "https://localhost:8080/",
          "height": 402
        },
        "id": "LODnO5TRAsww",
        "outputId": "2e1385ae-d654-4ff3-9cf2-03323275b37f"
      },
      "source": [
        "# sort series by values of a column\n",
        "df_dropna.sort_values('GR', ascending= False )"
      ],
      "execution_count": null,
      "outputs": [
        {
          "output_type": "execute_result",
          "data": {
            "text/html": [
              "<div>\n",
              "<style scoped>\n",
              "    .dataframe tbody tr th:only-of-type {\n",
              "        vertical-align: middle;\n",
              "    }\n",
              "\n",
              "    .dataframe tbody tr th {\n",
              "        vertical-align: top;\n",
              "    }\n",
              "\n",
              "    .dataframe thead th {\n",
              "        text-align: right;\n",
              "    }\n",
              "</style>\n",
              "<table border=\"1\" class=\"dataframe\">\n",
              "  <thead>\n",
              "    <tr style=\"text-align: right;\">\n",
              "      <th></th>\n",
              "      <th>DEPTH</th>\n",
              "      <th>RHOB</th>\n",
              "      <th>DT</th>\n",
              "      <th>GR</th>\n",
              "      <th>Shale/SD</th>\n",
              "    </tr>\n",
              "  </thead>\n",
              "  <tbody>\n",
              "    <tr>\n",
              "      <th>4314</th>\n",
              "      <td>695.10</td>\n",
              "      <td>1848.6597</td>\n",
              "      <td>508.0339</td>\n",
              "      <td>129.1773</td>\n",
              "      <td>SHALE</td>\n",
              "    </tr>\n",
              "    <tr>\n",
              "      <th>4315</th>\n",
              "      <td>695.25</td>\n",
              "      <td>1845.0472</td>\n",
              "      <td>506.0756</td>\n",
              "      <td>129.1773</td>\n",
              "      <td>SHALE</td>\n",
              "    </tr>\n",
              "    <tr>\n",
              "      <th>4316</th>\n",
              "      <td>695.40</td>\n",
              "      <td>1839.4297</td>\n",
              "      <td>508.8546</td>\n",
              "      <td>129.1773</td>\n",
              "      <td>SHALE</td>\n",
              "    </tr>\n",
              "    <tr>\n",
              "      <th>4317</th>\n",
              "      <td>695.55</td>\n",
              "      <td>1825.8594</td>\n",
              "      <td>510.3715</td>\n",
              "      <td>129.1773</td>\n",
              "      <td>SHALE</td>\n",
              "    </tr>\n",
              "    <tr>\n",
              "      <th>4318</th>\n",
              "      <td>695.70</td>\n",
              "      <td>1830.1001</td>\n",
              "      <td>515.6201</td>\n",
              "      <td>129.1773</td>\n",
              "      <td>SHALE</td>\n",
              "    </tr>\n",
              "    <tr>\n",
              "      <th>...</th>\n",
              "      <td>...</td>\n",
              "      <td>...</td>\n",
              "      <td>...</td>\n",
              "      <td>...</td>\n",
              "      <td>...</td>\n",
              "    </tr>\n",
              "    <tr>\n",
              "      <th>2622</th>\n",
              "      <td>441.30</td>\n",
              "      <td>1360.0488</td>\n",
              "      <td>519.8415</td>\n",
              "      <td>12.5939</td>\n",
              "      <td>SAND</td>\n",
              "    </tr>\n",
              "    <tr>\n",
              "      <th>2623</th>\n",
              "      <td>441.45</td>\n",
              "      <td>1358.9503</td>\n",
              "      <td>521.6799</td>\n",
              "      <td>12.2146</td>\n",
              "      <td>SAND</td>\n",
              "    </tr>\n",
              "    <tr>\n",
              "      <th>2624</th>\n",
              "      <td>441.60</td>\n",
              "      <td>1354.3234</td>\n",
              "      <td>523.4246</td>\n",
              "      <td>12.2146</td>\n",
              "      <td>SAND</td>\n",
              "    </tr>\n",
              "    <tr>\n",
              "      <th>2625</th>\n",
              "      <td>441.75</td>\n",
              "      <td>1350.4447</td>\n",
              "      <td>523.6125</td>\n",
              "      <td>12.2146</td>\n",
              "      <td>SAND</td>\n",
              "    </tr>\n",
              "    <tr>\n",
              "      <th>2626</th>\n",
              "      <td>441.90</td>\n",
              "      <td>1350.5763</td>\n",
              "      <td>520.0811</td>\n",
              "      <td>12.2146</td>\n",
              "      <td>SAND</td>\n",
              "    </tr>\n",
              "  </tbody>\n",
              "</table>\n",
              "<p>8253 rows × 5 columns</p>\n",
              "</div>"
            ],
            "text/plain": [
              "       DEPTH       RHOB        DT        GR Shale/SD\n",
              "4314  695.10  1848.6597  508.0339  129.1773    SHALE\n",
              "4315  695.25  1845.0472  506.0756  129.1773    SHALE\n",
              "4316  695.40  1839.4297  508.8546  129.1773    SHALE\n",
              "4317  695.55  1825.8594  510.3715  129.1773    SHALE\n",
              "4318  695.70  1830.1001  515.6201  129.1773    SHALE\n",
              "...      ...        ...       ...       ...      ...\n",
              "2622  441.30  1360.0488  519.8415   12.5939     SAND\n",
              "2623  441.45  1358.9503  521.6799   12.2146     SAND\n",
              "2624  441.60  1354.3234  523.4246   12.2146     SAND\n",
              "2625  441.75  1350.4447  523.6125   12.2146     SAND\n",
              "2626  441.90  1350.5763  520.0811   12.2146     SAND\n",
              "\n",
              "[8253 rows x 5 columns]"
            ]
          },
          "metadata": {
            "tags": []
          },
          "execution_count": 25
        }
      ]
    },
    {
      "cell_type": "code",
      "metadata": {
        "colab": {
          "base_uri": "https://localhost:8080/"
        },
        "id": "9ZrhAKRoBNMm",
        "outputId": "605fbb9c-5b5b-4784-a658-66a1702dcae4"
      },
      "source": [
        "# take cumulative summation of column\n",
        "df_dropna.RHOB.cumsum()"
      ],
      "execution_count": null,
      "outputs": [
        {
          "output_type": "execute_result",
          "data": {
            "text/plain": [
              "1427    1.998907e+03\n",
              "1428    3.988086e+03\n",
              "1429    5.973675e+03\n",
              "1430    7.981882e+03\n",
              "1431    1.000795e+04\n",
              "            ...     \n",
              "9675    1.629301e+07\n",
              "9676    1.629483e+07\n",
              "9677    1.629669e+07\n",
              "9678    1.629857e+07\n",
              "9679    1.630043e+07\n",
              "Name: RHOB, Length: 8253, dtype: float64"
            ]
          },
          "metadata": {
            "tags": []
          },
          "execution_count": 26
        }
      ]
    },
    {
      "cell_type": "code",
      "metadata": {
        "colab": {
          "base_uri": "https://localhost:8080/",
          "height": 402
        },
        "id": "xhVnll1QALZm",
        "outputId": "d006ed9e-d408-4d8b-d7e2-5d24fced31d0"
      },
      "source": [
        "# add a new Cumulative summation of column\n",
        "df_dropna['OBP'] = df_dropna.RHOB.cumsum()\n",
        "df_dropna"
      ],
      "execution_count": null,
      "outputs": [
        {
          "output_type": "execute_result",
          "data": {
            "text/html": [
              "<div>\n",
              "<style scoped>\n",
              "    .dataframe tbody tr th:only-of-type {\n",
              "        vertical-align: middle;\n",
              "    }\n",
              "\n",
              "    .dataframe tbody tr th {\n",
              "        vertical-align: top;\n",
              "    }\n",
              "\n",
              "    .dataframe thead th {\n",
              "        text-align: right;\n",
              "    }\n",
              "</style>\n",
              "<table border=\"1\" class=\"dataframe\">\n",
              "  <thead>\n",
              "    <tr style=\"text-align: right;\">\n",
              "      <th></th>\n",
              "      <th>DEPTH</th>\n",
              "      <th>RHOB</th>\n",
              "      <th>DT</th>\n",
              "      <th>GR</th>\n",
              "      <th>Shale/SD</th>\n",
              "      <th>OBP</th>\n",
              "    </tr>\n",
              "  </thead>\n",
              "  <tbody>\n",
              "    <tr>\n",
              "      <th>1427</th>\n",
              "      <td>262.0500</td>\n",
              "      <td>1998.9065</td>\n",
              "      <td>513.5145</td>\n",
              "      <td>20.8059</td>\n",
              "      <td>SAND</td>\n",
              "      <td>1.998907e+03</td>\n",
              "    </tr>\n",
              "    <tr>\n",
              "      <th>1428</th>\n",
              "      <td>262.2000</td>\n",
              "      <td>1989.1794</td>\n",
              "      <td>513.5073</td>\n",
              "      <td>21.1575</td>\n",
              "      <td>SAND</td>\n",
              "      <td>3.988086e+03</td>\n",
              "    </tr>\n",
              "    <tr>\n",
              "      <th>1429</th>\n",
              "      <td>262.3500</td>\n",
              "      <td>1985.5889</td>\n",
              "      <td>513.4998</td>\n",
              "      <td>21.3494</td>\n",
              "      <td>SAND</td>\n",
              "      <td>5.973675e+03</td>\n",
              "    </tr>\n",
              "    <tr>\n",
              "      <th>1430</th>\n",
              "      <td>262.5000</td>\n",
              "      <td>2008.2076</td>\n",
              "      <td>513.4924</td>\n",
              "      <td>21.1685</td>\n",
              "      <td>SAND</td>\n",
              "      <td>7.981882e+03</td>\n",
              "    </tr>\n",
              "    <tr>\n",
              "      <th>1431</th>\n",
              "      <td>262.6500</td>\n",
              "      <td>2026.0713</td>\n",
              "      <td>513.4849</td>\n",
              "      <td>21.1536</td>\n",
              "      <td>SAND</td>\n",
              "      <td>1.000795e+04</td>\n",
              "    </tr>\n",
              "    <tr>\n",
              "      <th>...</th>\n",
              "      <td>...</td>\n",
              "      <td>...</td>\n",
              "      <td>...</td>\n",
              "      <td>...</td>\n",
              "      <td>...</td>\n",
              "      <td>...</td>\n",
              "    </tr>\n",
              "    <tr>\n",
              "      <th>9675</th>\n",
              "      <td>1499.2500</td>\n",
              "      <td>1787.5444</td>\n",
              "      <td>532.1727</td>\n",
              "      <td>27.6273</td>\n",
              "      <td>SAND</td>\n",
              "      <td>1.629301e+07</td>\n",
              "    </tr>\n",
              "    <tr>\n",
              "      <th>9676</th>\n",
              "      <td>1499.4000</td>\n",
              "      <td>1814.1691</td>\n",
              "      <td>534.8610</td>\n",
              "      <td>28.5281</td>\n",
              "      <td>SAND</td>\n",
              "      <td>1.629483e+07</td>\n",
              "    </tr>\n",
              "    <tr>\n",
              "      <th>9677</th>\n",
              "      <td>1499.5500</td>\n",
              "      <td>1861.6497</td>\n",
              "      <td>537.1902</td>\n",
              "      <td>28.5813</td>\n",
              "      <td>SAND</td>\n",
              "      <td>1.629669e+07</td>\n",
              "    </tr>\n",
              "    <tr>\n",
              "      <th>9678</th>\n",
              "      <td>1499.7001</td>\n",
              "      <td>1880.3978</td>\n",
              "      <td>537.2630</td>\n",
              "      <td>28.5813</td>\n",
              "      <td>SAND</td>\n",
              "      <td>1.629857e+07</td>\n",
              "    </tr>\n",
              "    <tr>\n",
              "      <th>9679</th>\n",
              "      <td>1499.8501</td>\n",
              "      <td>1856.3350</td>\n",
              "      <td>537.3831</td>\n",
              "      <td>27.9759</td>\n",
              "      <td>SAND</td>\n",
              "      <td>1.630043e+07</td>\n",
              "    </tr>\n",
              "  </tbody>\n",
              "</table>\n",
              "<p>8253 rows × 6 columns</p>\n",
              "</div>"
            ],
            "text/plain": [
              "          DEPTH       RHOB        DT       GR Shale/SD           OBP\n",
              "1427   262.0500  1998.9065  513.5145  20.8059     SAND  1.998907e+03\n",
              "1428   262.2000  1989.1794  513.5073  21.1575     SAND  3.988086e+03\n",
              "1429   262.3500  1985.5889  513.4998  21.3494     SAND  5.973675e+03\n",
              "1430   262.5000  2008.2076  513.4924  21.1685     SAND  7.981882e+03\n",
              "1431   262.6500  2026.0713  513.4849  21.1536     SAND  1.000795e+04\n",
              "...         ...        ...       ...      ...      ...           ...\n",
              "9675  1499.2500  1787.5444  532.1727  27.6273     SAND  1.629301e+07\n",
              "9676  1499.4000  1814.1691  534.8610  28.5281     SAND  1.629483e+07\n",
              "9677  1499.5500  1861.6497  537.1902  28.5813     SAND  1.629669e+07\n",
              "9678  1499.7001  1880.3978  537.2630  28.5813     SAND  1.629857e+07\n",
              "9679  1499.8501  1856.3350  537.3831  27.9759     SAND  1.630043e+07\n",
              "\n",
              "[8253 rows x 6 columns]"
            ]
          },
          "metadata": {
            "tags": []
          },
          "execution_count": 27
        }
      ]
    },
    {
      "cell_type": "code",
      "metadata": {
        "colab": {
          "base_uri": "https://localhost:8080/",
          "height": 293
        },
        "id": "ZhCL49xVBu2G",
        "outputId": "3d2d68ec-8e43-4c81-8f44-31ee54fce518"
      },
      "source": [
        "df_dropna.OBP.plot()"
      ],
      "execution_count": null,
      "outputs": [
        {
          "output_type": "execute_result",
          "data": {
            "text/plain": [
              "<matplotlib.axes._subplots.AxesSubplot at 0x7f464c57ca10>"
            ]
          },
          "metadata": {
            "tags": []
          },
          "execution_count": 28
        },
        {
          "output_type": "display_data",
          "data": {
            "image/png": "[encoded data removed]",
            "text/plain": [
              "<Figure size 432x288 with 1 Axes>"
            ]
          },
          "metadata": {
            "tags": [],
            "needs_background": "light"
          }
        }
      ]
    },
    {
      "cell_type": "markdown",
      "metadata": {
        "id": "BTp76NWK2Gxr"
      },
      "source": [
        "### 1. Apply Functions By Group In Pandas"
      ]
    },
    {
      "cell_type": "code",
      "metadata": {
        "id": "7HHNgZwB2Gxv",
        "colab": {
          "base_uri": "https://localhost:8080/",
          "height": 136
        },
        "outputId": "10a4a3bd-456a-432d-bd30-00d13efac3ba"
      },
      "source": [
        "df_dropna.groupby(['Shale/SD']).max()\n",
        "# we can use also median , max , min"
      ],
      "execution_count": null,
      "outputs": [
        {
          "output_type": "execute_result",
          "data": {
            "text/html": [
              "<div>\n",
              "<style scoped>\n",
              "    .dataframe tbody tr th:only-of-type {\n",
              "        vertical-align: middle;\n",
              "    }\n",
              "\n",
              "    .dataframe tbody tr th {\n",
              "        vertical-align: top;\n",
              "    }\n",
              "\n",
              "    .dataframe thead th {\n",
              "        text-align: right;\n",
              "    }\n",
              "</style>\n",
              "<table border=\"1\" class=\"dataframe\">\n",
              "  <thead>\n",
              "    <tr style=\"text-align: right;\">\n",
              "      <th></th>\n",
              "      <th>DEPTH</th>\n",
              "      <th>RHOB</th>\n",
              "      <th>DT</th>\n",
              "      <th>GR</th>\n",
              "      <th>OBP</th>\n",
              "    </tr>\n",
              "    <tr>\n",
              "      <th>Shale/SD</th>\n",
              "      <th></th>\n",
              "      <th></th>\n",
              "      <th></th>\n",
              "      <th></th>\n",
              "      <th></th>\n",
              "    </tr>\n",
              "  </thead>\n",
              "  <tbody>\n",
              "    <tr>\n",
              "      <th>SAND</th>\n",
              "      <td>1499.8501</td>\n",
              "      <td>2346.6292</td>\n",
              "      <td>667.9208</td>\n",
              "      <td>49.9999</td>\n",
              "      <td>1.630043e+07</td>\n",
              "    </tr>\n",
              "    <tr>\n",
              "      <th>SHALE</th>\n",
              "      <td>1486.6500</td>\n",
              "      <td>2323.7258</td>\n",
              "      <td>583.2413</td>\n",
              "      <td>129.1773</td>\n",
              "      <td>1.613019e+07</td>\n",
              "    </tr>\n",
              "  </tbody>\n",
              "</table>\n",
              "</div>"
            ],
            "text/plain": [
              "              DEPTH       RHOB        DT        GR           OBP\n",
              "Shale/SD                                                        \n",
              "SAND      1499.8501  2346.6292  667.9208   49.9999  1.630043e+07\n",
              "SHALE     1486.6500  2323.7258  583.2413  129.1773  1.613019e+07"
            ]
          },
          "metadata": {
            "tags": []
          },
          "execution_count": 29
        }
      ]
    },
    {
      "cell_type": "code",
      "metadata": {
        "colab": {
          "base_uri": "https://localhost:8080/",
          "height": 136
        },
        "id": "xS6PCV40gD_o",
        "outputId": "0caea2ce-ab4b-42ca-ebe8-5c6d3e8d06cc"
      },
      "source": [
        "df_dropna.groupby(['Shale/SD']).min()\n",
        "# we can use also median , max , min"
      ],
      "execution_count": null,
      "outputs": [
        {
          "output_type": "execute_result",
          "data": {
            "text/html": [
              "<div>\n",
              "<style scoped>\n",
              "    .dataframe tbody tr th:only-of-type {\n",
              "        vertical-align: middle;\n",
              "    }\n",
              "\n",
              "    .dataframe tbody tr th {\n",
              "        vertical-align: top;\n",
              "    }\n",
              "\n",
              "    .dataframe thead th {\n",
              "        text-align: right;\n",
              "    }\n",
              "</style>\n",
              "<table border=\"1\" class=\"dataframe\">\n",
              "  <thead>\n",
              "    <tr style=\"text-align: right;\">\n",
              "      <th></th>\n",
              "      <th>DEPTH</th>\n",
              "      <th>RHOB</th>\n",
              "      <th>DT</th>\n",
              "      <th>GR</th>\n",
              "      <th>OBP</th>\n",
              "    </tr>\n",
              "    <tr>\n",
              "      <th>Shale/SD</th>\n",
              "      <th></th>\n",
              "      <th></th>\n",
              "      <th></th>\n",
              "      <th></th>\n",
              "      <th></th>\n",
              "    </tr>\n",
              "  </thead>\n",
              "  <tbody>\n",
              "    <tr>\n",
              "      <th>SAND</th>\n",
              "      <td>262.05</td>\n",
              "      <td>1350.4447</td>\n",
              "      <td>368.1147</td>\n",
              "      <td>12.2146</td>\n",
              "      <td>1.998907e+03</td>\n",
              "    </tr>\n",
              "    <tr>\n",
              "      <th>SHALE</th>\n",
              "      <td>425.70</td>\n",
              "      <td>1584.4503</td>\n",
              "      <td>384.6243</td>\n",
              "      <td>50.0005</td>\n",
              "      <td>1.637829e+06</td>\n",
              "    </tr>\n",
              "  </tbody>\n",
              "</table>\n",
              "</div>"
            ],
            "text/plain": [
              "           DEPTH       RHOB        DT       GR           OBP\n",
              "Shale/SD                                                    \n",
              "SAND      262.05  1350.4447  368.1147  12.2146  1.998907e+03\n",
              "SHALE     425.70  1584.4503  384.6243  50.0005  1.637829e+06"
            ]
          },
          "metadata": {
            "tags": []
          },
          "execution_count": 30
        }
      ]
    },
    {
      "cell_type": "markdown",
      "metadata": {
        "id": "wcwtFtd4IW7K"
      },
      "source": [
        "## Data Analysis\n"
      ]
    },
    {
      "cell_type": "code",
      "metadata": {
        "colab": {
          "base_uri": "https://localhost:8080/",
          "height": 195
        },
        "id": "FkxQbhTPIZ8X",
        "outputId": "72a28af5-c7e6-4427-ed45-1ae44138687a"
      },
      "source": [
        "# Collrelation Matrix (Pearson correlation factor )\n",
        "df_dropna.corr()"
      ],
      "execution_count": null,
      "outputs": [
        {
          "output_type": "execute_result",
          "data": {
            "text/html": [
              "<div>\n",
              "<style scoped>\n",
              "    .dataframe tbody tr th:only-of-type {\n",
              "        vertical-align: middle;\n",
              "    }\n",
              "\n",
              "    .dataframe tbody tr th {\n",
              "        vertical-align: top;\n",
              "    }\n",
              "\n",
              "    .dataframe thead th {\n",
              "        text-align: right;\n",
              "    }\n",
              "</style>\n",
              "<table border=\"1\" class=\"dataframe\">\n",
              "  <thead>\n",
              "    <tr style=\"text-align: right;\">\n",
              "      <th></th>\n",
              "      <th>DEPTH</th>\n",
              "      <th>RHOB</th>\n",
              "      <th>DT</th>\n",
              "      <th>GR</th>\n",
              "      <th>OBP</th>\n",
              "    </tr>\n",
              "  </thead>\n",
              "  <tbody>\n",
              "    <tr>\n",
              "      <th>DEPTH</th>\n",
              "      <td>1.000000</td>\n",
              "      <td>0.583196</td>\n",
              "      <td>-0.366767</td>\n",
              "      <td>0.455097</td>\n",
              "      <td>0.998625</td>\n",
              "    </tr>\n",
              "    <tr>\n",
              "      <th>RHOB</th>\n",
              "      <td>0.583196</td>\n",
              "      <td>1.000000</td>\n",
              "      <td>-0.711299</td>\n",
              "      <td>0.632652</td>\n",
              "      <td>0.559707</td>\n",
              "    </tr>\n",
              "    <tr>\n",
              "      <th>DT</th>\n",
              "      <td>-0.366767</td>\n",
              "      <td>-0.711299</td>\n",
              "      <td>1.000000</td>\n",
              "      <td>-0.288375</td>\n",
              "      <td>-0.364274</td>\n",
              "    </tr>\n",
              "    <tr>\n",
              "      <th>GR</th>\n",
              "      <td>0.455097</td>\n",
              "      <td>0.632652</td>\n",
              "      <td>-0.288375</td>\n",
              "      <td>1.000000</td>\n",
              "      <td>0.431862</td>\n",
              "    </tr>\n",
              "    <tr>\n",
              "      <th>OBP</th>\n",
              "      <td>0.998625</td>\n",
              "      <td>0.559707</td>\n",
              "      <td>-0.364274</td>\n",
              "      <td>0.431862</td>\n",
              "      <td>1.000000</td>\n",
              "    </tr>\n",
              "  </tbody>\n",
              "</table>\n",
              "</div>"
            ],
            "text/plain": [
              "          DEPTH      RHOB        DT        GR       OBP\n",
              "DEPTH  1.000000  0.583196 -0.366767  0.455097  0.998625\n",
              "RHOB   0.583196  1.000000 -0.711299  0.632652  0.559707\n",
              "DT    -0.366767 -0.711299  1.000000 -0.288375 -0.364274\n",
              "GR     0.455097  0.632652 -0.288375  1.000000  0.431862\n",
              "OBP    0.998625  0.559707 -0.364274  0.431862  1.000000"
            ]
          },
          "metadata": {
            "tags": []
          },
          "execution_count": 31
        }
      ]
    },
    {
      "cell_type": "markdown",
      "metadata": {
        "id": "stSH1rEP2Gx6"
      },
      "source": [
        "## dealing with datetime"
      ]
    },
    {
      "cell_type": "code",
      "metadata": {
        "id": "xffO8q8b2Gx7",
        "colab": {
          "base_uri": "https://localhost:8080/",
          "height": 195
        },
        "outputId": "b366d3ef-dd97-46cc-ea13-d54456e1798c"
      },
      "source": [
        "weatherdf=pd.read_csv('/content/drive/My Drive/GeoML-1.0/Pandas_weather.csv')\n",
        "weatherdf.head()"
      ],
      "execution_count": null,
      "outputs": [
        {
          "output_type": "execute_result",
          "data": {
            "text/html": [
              "<div>\n",
              "<style scoped>\n",
              "    .dataframe tbody tr th:only-of-type {\n",
              "        vertical-align: middle;\n",
              "    }\n",
              "\n",
              "    .dataframe tbody tr th {\n",
              "        vertical-align: top;\n",
              "    }\n",
              "\n",
              "    .dataframe thead th {\n",
              "        text-align: right;\n",
              "    }\n",
              "</style>\n",
              "<table border=\"1\" class=\"dataframe\">\n",
              "  <thead>\n",
              "    <tr style=\"text-align: right;\">\n",
              "      <th></th>\n",
              "      <th>Formatted Date</th>\n",
              "      <th>Temperature (C)</th>\n",
              "      <th>Humidity</th>\n",
              "    </tr>\n",
              "  </thead>\n",
              "  <tbody>\n",
              "    <tr>\n",
              "      <th>0</th>\n",
              "      <td>2006-04-10 00:00:00.000 +0200</td>\n",
              "      <td>10.422222</td>\n",
              "      <td>0.62</td>\n",
              "    </tr>\n",
              "    <tr>\n",
              "      <th>1</th>\n",
              "      <td>2006-04-10 01:00:00.000 +0200</td>\n",
              "      <td>9.911111</td>\n",
              "      <td>0.66</td>\n",
              "    </tr>\n",
              "    <tr>\n",
              "      <th>2</th>\n",
              "      <td>2006-04-10 02:00:00.000 +0200</td>\n",
              "      <td>11.183333</td>\n",
              "      <td>0.80</td>\n",
              "    </tr>\n",
              "    <tr>\n",
              "      <th>3</th>\n",
              "      <td>2006-04-10 03:00:00.000 +0200</td>\n",
              "      <td>7.155556</td>\n",
              "      <td>0.79</td>\n",
              "    </tr>\n",
              "    <tr>\n",
              "      <th>4</th>\n",
              "      <td>2006-04-10 04:00:00.000 +0200</td>\n",
              "      <td>6.111111</td>\n",
              "      <td>0.82</td>\n",
              "    </tr>\n",
              "  </tbody>\n",
              "</table>\n",
              "</div>"
            ],
            "text/plain": [
              "                  Formatted Date  Temperature (C)  Humidity\n",
              "0  2006-04-10 00:00:00.000 +0200        10.422222      0.62\n",
              "1  2006-04-10 01:00:00.000 +0200         9.911111      0.66\n",
              "2  2006-04-10 02:00:00.000 +0200        11.183333      0.80\n",
              "3  2006-04-10 03:00:00.000 +0200         7.155556      0.79\n",
              "4  2006-04-10 04:00:00.000 +0200         6.111111      0.82"
            ]
          },
          "metadata": {
            "tags": []
          },
          "execution_count": 32
        }
      ]
    },
    {
      "cell_type": "code",
      "metadata": {
        "id": "H7Yayg492Gx-",
        "colab": {
          "base_uri": "https://localhost:8080/"
        },
        "outputId": "1a70444a-aab9-4f45-b632-51fa63fe097d"
      },
      "source": [
        "# we need to check date column type\n",
        "weatherdf.info()"
      ],
      "execution_count": null,
      "outputs": [
        {
          "output_type": "stream",
          "text": [
            "<class 'pandas.core.frame.DataFrame'>\n",
            "RangeIndex: 96 entries, 0 to 95\n",
            "Data columns (total 3 columns):\n",
            " #   Column           Non-Null Count  Dtype  \n",
            "---  ------           --------------  -----  \n",
            " 0   Formatted Date   96 non-null     object \n",
            " 1   Temperature (C)  96 non-null     float64\n",
            " 2   Humidity         96 non-null     float64\n",
            "dtypes: float64(2), object(1)\n",
            "memory usage: 2.4+ KB\n"
          ],
          "name": "stdout"
        }
      ]
    },
    {
      "cell_type": "code",
      "metadata": {
        "id": "_lQftm772GyA",
        "colab": {
          "base_uri": "https://localhost:8080/"
        },
        "outputId": "65985225-560e-4f3b-cd6c-fe588c7f968e"
      },
      "source": [
        "weatherdf['Formatted Date']=pd.to_datetime(weatherdf['Formatted Date'])\n",
        "weatherdf.info()"
      ],
      "execution_count": null,
      "outputs": [
        {
          "output_type": "stream",
          "text": [
            "<class 'pandas.core.frame.DataFrame'>\n",
            "RangeIndex: 96 entries, 0 to 95\n",
            "Data columns (total 3 columns):\n",
            " #   Column           Non-Null Count  Dtype                                \n",
            "---  ------           --------------  -----                                \n",
            " 0   Formatted Date   96 non-null     datetime64[ns, pytz.FixedOffset(120)]\n",
            " 1   Temperature (C)  96 non-null     float64                              \n",
            " 2   Humidity         96 non-null     float64                              \n",
            "dtypes: datetime64[ns, pytz.FixedOffset(120)](1), float64(2)\n",
            "memory usage: 2.4 KB\n"
          ],
          "name": "stdout"
        }
      ]
    },
    {
      "cell_type": "code",
      "metadata": {
        "id": "OfWdLXWm2GyD",
        "colab": {
          "base_uri": "https://localhost:8080/",
          "height": 195
        },
        "outputId": "cee56f0e-0675-4adc-917a-ed032e572a5a"
      },
      "source": [
        "weatherdf.head()"
      ],
      "execution_count": null,
      "outputs": [
        {
          "output_type": "execute_result",
          "data": {
            "text/html": [
              "<div>\n",
              "<style scoped>\n",
              "    .dataframe tbody tr th:only-of-type {\n",
              "        vertical-align: middle;\n",
              "    }\n",
              "\n",
              "    .dataframe tbody tr th {\n",
              "        vertical-align: top;\n",
              "    }\n",
              "\n",
              "    .dataframe thead th {\n",
              "        text-align: right;\n",
              "    }\n",
              "</style>\n",
              "<table border=\"1\" class=\"dataframe\">\n",
              "  <thead>\n",
              "    <tr style=\"text-align: right;\">\n",
              "      <th></th>\n",
              "      <th>Formatted Date</th>\n",
              "      <th>Temperature (C)</th>\n",
              "      <th>Humidity</th>\n",
              "    </tr>\n",
              "  </thead>\n",
              "  <tbody>\n",
              "    <tr>\n",
              "      <th>0</th>\n",
              "      <td>2006-04-10 00:00:00+02:00</td>\n",
              "      <td>10.422222</td>\n",
              "      <td>0.62</td>\n",
              "    </tr>\n",
              "    <tr>\n",
              "      <th>1</th>\n",
              "      <td>2006-04-10 01:00:00+02:00</td>\n",
              "      <td>9.911111</td>\n",
              "      <td>0.66</td>\n",
              "    </tr>\n",
              "    <tr>\n",
              "      <th>2</th>\n",
              "      <td>2006-04-10 02:00:00+02:00</td>\n",
              "      <td>11.183333</td>\n",
              "      <td>0.80</td>\n",
              "    </tr>\n",
              "    <tr>\n",
              "      <th>3</th>\n",
              "      <td>2006-04-10 03:00:00+02:00</td>\n",
              "      <td>7.155556</td>\n",
              "      <td>0.79</td>\n",
              "    </tr>\n",
              "    <tr>\n",
              "      <th>4</th>\n",
              "      <td>2006-04-10 04:00:00+02:00</td>\n",
              "      <td>6.111111</td>\n",
              "      <td>0.82</td>\n",
              "    </tr>\n",
              "  </tbody>\n",
              "</table>\n",
              "</div>"
            ],
            "text/plain": [
              "             Formatted Date  Temperature (C)  Humidity\n",
              "0 2006-04-10 00:00:00+02:00        10.422222      0.62\n",
              "1 2006-04-10 01:00:00+02:00         9.911111      0.66\n",
              "2 2006-04-10 02:00:00+02:00        11.183333      0.80\n",
              "3 2006-04-10 03:00:00+02:00         7.155556      0.79\n",
              "4 2006-04-10 04:00:00+02:00         6.111111      0.82"
            ]
          },
          "metadata": {
            "tags": []
          },
          "execution_count": 35
        }
      ]
    },
    {
      "cell_type": "code",
      "metadata": {
        "id": "8BIanB_L2GyL",
        "colab": {
          "base_uri": "https://localhost:8080/",
          "height": 225
        },
        "outputId": "5a7251cf-2b92-41dd-c292-1c04c380401e"
      },
      "source": [
        "# sometimes we need to make date is the dataframe index\n",
        "weatherdf.set_index('Formatted Date',inplace=True)\n",
        "weatherdf.head()"
      ],
      "execution_count": null,
      "outputs": [
        {
          "output_type": "execute_result",
          "data": {
            "text/html": [
              "<div>\n",
              "<style scoped>\n",
              "    .dataframe tbody tr th:only-of-type {\n",
              "        vertical-align: middle;\n",
              "    }\n",
              "\n",
              "    .dataframe tbody tr th {\n",
              "        vertical-align: top;\n",
              "    }\n",
              "\n",
              "    .dataframe thead th {\n",
              "        text-align: right;\n",
              "    }\n",
              "</style>\n",
              "<table border=\"1\" class=\"dataframe\">\n",
              "  <thead>\n",
              "    <tr style=\"text-align: right;\">\n",
              "      <th></th>\n",
              "      <th>Temperature (C)</th>\n",
              "      <th>Humidity</th>\n",
              "    </tr>\n",
              "    <tr>\n",
              "      <th>Formatted Date</th>\n",
              "      <th></th>\n",
              "      <th></th>\n",
              "    </tr>\n",
              "  </thead>\n",
              "  <tbody>\n",
              "    <tr>\n",
              "      <th>2006-04-10 00:00:00+02:00</th>\n",
              "      <td>10.422222</td>\n",
              "      <td>0.62</td>\n",
              "    </tr>\n",
              "    <tr>\n",
              "      <th>2006-04-10 01:00:00+02:00</th>\n",
              "      <td>9.911111</td>\n",
              "      <td>0.66</td>\n",
              "    </tr>\n",
              "    <tr>\n",
              "      <th>2006-04-10 02:00:00+02:00</th>\n",
              "      <td>11.183333</td>\n",
              "      <td>0.80</td>\n",
              "    </tr>\n",
              "    <tr>\n",
              "      <th>2006-04-10 03:00:00+02:00</th>\n",
              "      <td>7.155556</td>\n",
              "      <td>0.79</td>\n",
              "    </tr>\n",
              "    <tr>\n",
              "      <th>2006-04-10 04:00:00+02:00</th>\n",
              "      <td>6.111111</td>\n",
              "      <td>0.82</td>\n",
              "    </tr>\n",
              "  </tbody>\n",
              "</table>\n",
              "</div>"
            ],
            "text/plain": [
              "                           Temperature (C)  Humidity\n",
              "Formatted Date                                      \n",
              "2006-04-10 00:00:00+02:00        10.422222      0.62\n",
              "2006-04-10 01:00:00+02:00         9.911111      0.66\n",
              "2006-04-10 02:00:00+02:00        11.183333      0.80\n",
              "2006-04-10 03:00:00+02:00         7.155556      0.79\n",
              "2006-04-10 04:00:00+02:00         6.111111      0.82"
            ]
          },
          "metadata": {
            "tags": []
          },
          "execution_count": 36
        }
      ]
    },
    {
      "cell_type": "code",
      "metadata": {
        "scrolled": true,
        "id": "pXyPueRZ2GyO",
        "colab": {
          "base_uri": "https://localhost:8080/",
          "height": 195
        },
        "outputId": "88fa5b03-39d7-4cd9-ffa4-356d1915fcd3"
      },
      "source": [
        "# making date as index will help us resample data\n",
        "dailydf=weatherdf.resample('D').mean() # get average of every day temperature and humidity\n",
        "display(dailydf)"
      ],
      "execution_count": null,
      "outputs": [
        {
          "output_type": "display_data",
          "data": {
            "text/html": [
              "<div>\n",
              "<style scoped>\n",
              "    .dataframe tbody tr th:only-of-type {\n",
              "        vertical-align: middle;\n",
              "    }\n",
              "\n",
              "    .dataframe tbody tr th {\n",
              "        vertical-align: top;\n",
              "    }\n",
              "\n",
              "    .dataframe thead th {\n",
              "        text-align: right;\n",
              "    }\n",
              "</style>\n",
              "<table border=\"1\" class=\"dataframe\">\n",
              "  <thead>\n",
              "    <tr style=\"text-align: right;\">\n",
              "      <th></th>\n",
              "      <th>Temperature (C)</th>\n",
              "      <th>Humidity</th>\n",
              "    </tr>\n",
              "    <tr>\n",
              "      <th>Formatted Date</th>\n",
              "      <th></th>\n",
              "      <th></th>\n",
              "    </tr>\n",
              "  </thead>\n",
              "  <tbody>\n",
              "    <tr>\n",
              "      <th>2006-04-10 00:00:00+02:00</th>\n",
              "      <td>14.181481</td>\n",
              "      <td>0.600000</td>\n",
              "    </tr>\n",
              "    <tr>\n",
              "      <th>2006-04-11 00:00:00+02:00</th>\n",
              "      <td>12.374537</td>\n",
              "      <td>0.832083</td>\n",
              "    </tr>\n",
              "    <tr>\n",
              "      <th>2006-04-12 00:00:00+02:00</th>\n",
              "      <td>8.370602</td>\n",
              "      <td>0.805000</td>\n",
              "    </tr>\n",
              "    <tr>\n",
              "      <th>2006-04-13 00:00:00+02:00</th>\n",
              "      <td>7.518287</td>\n",
              "      <td>0.736250</td>\n",
              "    </tr>\n",
              "  </tbody>\n",
              "</table>\n",
              "</div>"
            ],
            "text/plain": [
              "                           Temperature (C)  Humidity\n",
              "Formatted Date                                      \n",
              "2006-04-10 00:00:00+02:00        14.181481  0.600000\n",
              "2006-04-11 00:00:00+02:00        12.374537  0.832083\n",
              "2006-04-12 00:00:00+02:00         8.370602  0.805000\n",
              "2006-04-13 00:00:00+02:00         7.518287  0.736250"
            ]
          },
          "metadata": {
            "tags": []
          }
        }
      ]
    },
    {
      "cell_type": "code",
      "metadata": {
        "id": "C1LlC1Jo2GyR",
        "colab": {
          "base_uri": "https://localhost:8080/",
          "height": 166
        },
        "outputId": "3b47adcf-2f56-4e19-b00c-d39e1bf6b6ef"
      },
      "source": [
        "# we can also select data between range\n",
        "dailydf['2006-04-10':'2006-04-12']"
      ],
      "execution_count": null,
      "outputs": [
        {
          "output_type": "execute_result",
          "data": {
            "text/html": [
              "<div>\n",
              "<style scoped>\n",
              "    .dataframe tbody tr th:only-of-type {\n",
              "        vertical-align: middle;\n",
              "    }\n",
              "\n",
              "    .dataframe tbody tr th {\n",
              "        vertical-align: top;\n",
              "    }\n",
              "\n",
              "    .dataframe thead th {\n",
              "        text-align: right;\n",
              "    }\n",
              "</style>\n",
              "<table border=\"1\" class=\"dataframe\">\n",
              "  <thead>\n",
              "    <tr style=\"text-align: right;\">\n",
              "      <th></th>\n",
              "      <th>Temperature (C)</th>\n",
              "      <th>Humidity</th>\n",
              "    </tr>\n",
              "    <tr>\n",
              "      <th>Formatted Date</th>\n",
              "      <th></th>\n",
              "      <th></th>\n",
              "    </tr>\n",
              "  </thead>\n",
              "  <tbody>\n",
              "    <tr>\n",
              "      <th>2006-04-10 00:00:00+02:00</th>\n",
              "      <td>14.181481</td>\n",
              "      <td>0.600000</td>\n",
              "    </tr>\n",
              "    <tr>\n",
              "      <th>2006-04-11 00:00:00+02:00</th>\n",
              "      <td>12.374537</td>\n",
              "      <td>0.832083</td>\n",
              "    </tr>\n",
              "    <tr>\n",
              "      <th>2006-04-12 00:00:00+02:00</th>\n",
              "      <td>8.370602</td>\n",
              "      <td>0.805000</td>\n",
              "    </tr>\n",
              "  </tbody>\n",
              "</table>\n",
              "</div>"
            ],
            "text/plain": [
              "                           Temperature (C)  Humidity\n",
              "Formatted Date                                      \n",
              "2006-04-10 00:00:00+02:00        14.181481  0.600000\n",
              "2006-04-11 00:00:00+02:00        12.374537  0.832083\n",
              "2006-04-12 00:00:00+02:00         8.370602  0.805000"
            ]
          },
          "metadata": {
            "tags": []
          },
          "execution_count": 38
        }
      ]
    },
    {
      "cell_type": "markdown",
      "metadata": {
        "id": "RvAp5UMc6NlF"
      },
      "source": [
        "# Data Exporting "
      ]
    },
    {
      "cell_type": "code",
      "metadata": {
        "id": "MxeF-RTt6A-u"
      },
      "source": [
        "#@title Output data to a CSV file\n",
        "# Typically, I don't want row numbers in my output file, hence index=False.\n",
        "# To avoid character issues, I typically use utf8 encoding for input/output.\n",
        "\n",
        "df.to_csv(\"output_filename.csv\", index=False, encoding='utf8')\n",
        "\n"
      ],
      "execution_count": null,
      "outputs": []
    },
    {
      "cell_type": "code",
      "metadata": {
        "colab": {
          "base_uri": "https://localhost:8080/"
        },
        "id": "FyfavfWWCCFX",
        "outputId": "a8939320-932b-499e-b7bb-1f5205fbbf0c"
      },
      "source": [
        "%whos"
      ],
      "execution_count": null,
      "outputs": [
        {
          "output_type": "stream",
          "text": [
            "Variable    Type         Data/Info\n",
            "----------------------------------\n",
            "dailydf     DataFrame                             <...>       7.518287  0.736250\n",
            "df          DataFrame              DEPTH       RHO<...>\\n[9680 rows x 5 columns]\n",
            "df_copied   DataFrame              DEPTH       RHO<...>\\n[9680 rows x 5 columns]\n",
            "df_dropna   DataFrame              DEPTH       RHO<...>\\n[8253 rows x 6 columns]\n",
            "df_dummy    DataFrame          1  2  3  4\\n0     1<...>\\n[9680 rows x 4 columns]\n",
            "df_new      DataFrame              DEPTH       RHO<...>\\n[9680 rows x 9 columns]\n",
            "display     function     <function display at 0x7f466ff6a3b0>\n",
            "drive       module       <module 'google.colab.dri<...>s/google/colab/drive.py'>\n",
            "newdf       DataFrame    Empty DataFrame\\nColumns:<...>T, GR, FACIES]\\nIndex: []\n",
            "np          module       <module 'numpy' from '/us<...>kages/numpy/__init__.py'>\n",
            "pd          module       <module 'pandas' from '/u<...>ages/pandas/__init__.py'>\n",
            "shale       function     <function shale at 0x7f464c5b8f80>\n",
            "weatherdf   DataFrame                             <...>\\n\\n[96 rows x 2 columns]\n"
          ],
          "name": "stdout"
        }
      ]
    }
  ]
}