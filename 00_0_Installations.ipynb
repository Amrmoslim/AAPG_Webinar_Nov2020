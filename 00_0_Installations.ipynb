{
  "nbformat": 4,
  "nbformat_minor": 0,
  "metadata": {
    "colab": {
      "name": "00 .0 Installations.ipynb",
      "private_outputs": true,
      "provenance": [],
      "collapsed_sections": [
        "8KzSsq3TAUBQ"
      ],
      "toc_visible": true,
      "authorship_tag": "ABX9TyMPycQrz9I3nPXMXSeNZvzN"
    },
    "kernelspec": {
      "name": "python3",
      "display_name": "Python 3"
    }
  },
  "cells": [
    {
      "cell_type": "markdown",
      "metadata": {
        "id": "8KzSsq3TAUBQ"
      },
      "source": [
        "# Download python for windows \n",
        "\n",
        "[Download python for windows ](https://www.python.org/downloads/windows/)\n"
      ]
    },
    {
      "cell_type": "markdown",
      "metadata": {
        "id": "xKQ41KSFAUSJ"
      },
      "source": [
        "# Jupyter Notebook \n",
        "1 - Using windows CMD and pip command\n",
        "* Open CMD as administratior \n",
        "* write \"pip install jupyterlab\" or \"pip install notebook\"\n",
        "* to start jupyter notebook type \"Jupyter notebook\" in the CMD shell\n",
        "\n",
        "for more information on jupyter notebook or jupyter lab click [JupyterLab /  Jupyter Notebook](https://jupyter.org/install)"
      ]
    },
    {
      "cell_type": "markdown",
      "metadata": {
        "id": "ES_wqnHtAUJo"
      },
      "source": [
        "2 - using Conda commands on windows \n",
        "\n",
        "* Open CMD as administratior \n",
        "* write \"conda install -c conda-forge jupyterlab\"\n",
        "* to start jupyter notebook type \"Jupyter notebook\" in the CMD shell\n",
        "\n",
        "for more information on jupyter notebook or jupyter lab click [JupyterLab /  Jupyter Notebook](https://jupyter.org/install)\n"
      ]
    },
    {
      "cell_type": "markdown",
      "metadata": {
        "id": "IPZZcxjAD9Jb"
      },
      "source": [
        "# Using Jupyter Notebook online with Google Colab & Google Drive\n",
        "\n",
        "[https://colab.research.google.com/](https://colab.research.google.com/)\n",
        "\n",
        "**WHY Google Colab:**\n",
        "* Your codes are stored in your google drive.\n",
        "* Easy to start with as all the requirements already installed.\n",
        "* No need for special requirements in hardware or software.\n",
        "* You can use it wherever you are with just internet connection.\n",
        "* You can access / store the dataset in your google drive.\n",
        "* Easy to share with other mates or colleagues.\n",
        "* Forget about software or packages conflict.\n",
        "* You can save your models in google drive and apply it to the new dataset.\n",
        "* Using of code snippet pane makes it easy to code faster.\n",
        "* Add comments that works like commits in github for revisions and version control.\n",
        "* Automatic save your work.\n",
        "\n",
        "\n",
        "\n"
      ]
    },
    {
      "cell_type": "markdown",
      "metadata": {
        "id": "RdCj4TlmOmBO"
      },
      "source": [
        "## Installation of a new package from Jupyter notebook"
      ]
    },
    {
      "cell_type": "code",
      "metadata": {
        "id": "6xVV-t2KONRh"
      },
      "source": [
        "!pip install numpy\n",
        "!pip install pandas\n",
        "!pip install matplotib\n",
        "!pip install seaborn"
      ],
      "execution_count": null,
      "outputs": []
    },
    {
      "cell_type": "markdown",
      "metadata": {
        "id": "YU5sSH9RB7Zz"
      },
      "source": [
        "from windows CMD shell type the same command line without exclamation mark (!)\n"
      ]
    },
    {
      "cell_type": "markdown",
      "metadata": {
        "id": "5jx2DVa6OwUO"
      },
      "source": [
        "## Installation of geoscience packages"
      ]
    },
    {
      "cell_type": "code",
      "metadata": {
        "id": "QhbD3BlweH7I"
      },
      "source": [
        "!pip install welly"
      ],
      "execution_count": null,
      "outputs": []
    },
    {
      "cell_type": "code",
      "metadata": {
        "id": "OS0LeFgdelCI"
      },
      "source": [
        "!pip install petropy"
      ],
      "execution_count": null,
      "outputs": []
    },
    {
      "cell_type": "code",
      "metadata": {
        "id": "lLUEI_sSeK9i"
      },
      "source": [
        "!pip install segyio"
      ],
      "execution_count": null,
      "outputs": []
    },
    {
      "cell_type": "markdown",
      "metadata": {
        "id": "3NnQneycO4F7"
      },
      "source": [
        "## Import the required packages to code"
      ]
    },
    {
      "cell_type": "code",
      "metadata": {
        "id": "tXQNkCA7Im4s"
      },
      "source": [
        "#importing Pandas and Numpy and datasets \n",
        "import numpy as np\n",
        "import pandas as pd\n",
        "import matplotlib.pyplot as plt\n",
        "import sklearn \n",
        "import seaborn as sns\n",
        "from sklearn.ensemble import RandomForestRegressor, RandomForestClassifier\n",
        "from sklearn.model_selection import cross_val_score\n",
        "from sklearn.model_selection import train_test_split\n",
        "from sklearn.linear_model import LogisticRegression\n",
        "from sklearn.metrics import confusion_matrix\n",
        "from sklearn import datasets\n",
        "\n",
        "\n",
        "# The following lines adjust the granularity of reporting\n",
        "pd.options.display.float_format = \"{:.1f}\".format"
      ],
      "execution_count": null,
      "outputs": []
    },
    {
      "cell_type": "markdown",
      "metadata": {
        "id": "HZ70Bo1vPBDA"
      },
      "source": [
        "## To upload a dataset "
      ]
    },
    {
      "cell_type": "code",
      "metadata": {
        "id": "HBDXhNKRfilK"
      },
      "source": [
        "from google.colab import files\n",
        "\n",
        "uploaded = files.upload()"
      ],
      "execution_count": null,
      "outputs": []
    },
    {
      "cell_type": "code",
      "metadata": {
        "id": "zsJb5SrffshC"
      },
      "source": [
        "import pandas as pd\n",
        "\n",
        "uploaded = pd.DataFrame(uploaded, index=[0])"
      ],
      "execution_count": null,
      "outputs": []
    },
    {
      "cell_type": "markdown",
      "metadata": {
        "id": "SrlS2VkpPIvY"
      },
      "source": [
        "## Mount and import data from a google drive \n",
        "\n",
        "1.   enter the authorization code using your gmail address\n",
        "2.   copy the path of the dataset/ file to use it in the import codes\n",
        "3.   access data set using google drive path\n",
        "\n"
      ]
    },
    {
      "cell_type": "code",
      "metadata": {
        "id": "vFL9McMZgkGv"
      },
      "source": [
        "from google.colab import drive\n",
        "drive.mount('/content/drive')\n",
        "# enter authorization code by your gmail login address\n",
        "# Drive already mounted at /content/drive;\n",
        "# to attempt to forcibly remount, call drive.mount(\"/content/drive\", force_remount=True)."
      ],
      "execution_count": null,
      "outputs": []
    },
    {
      "cell_type": "code",
      "metadata": {
        "id": "jsqaSm6dPvs7"
      },
      "source": [
        "# access data set using google drive path\n",
        "filename_pp = \"/content/drive/My Drive/Equinor Synthetic model/issap20_Pp.sgy\"\n",
        "filename_ai = \"/content/drive/My Drive/Equinor Synthetic model/issap20_AI.sgy\"\n",
        "filename_fault = \"/content/drive/My Drive/Equinor Synthetic model/issap20_Fault.sgy\""
      ],
      "execution_count": null,
      "outputs": []
    },
    {
      "cell_type": "markdown",
      "metadata": {
        "id": "ZTSzrGnzQOpY"
      },
      "source": [
        "## NOW you are ready to go to Notebook No# 01"
      ]
    }
  ]
}