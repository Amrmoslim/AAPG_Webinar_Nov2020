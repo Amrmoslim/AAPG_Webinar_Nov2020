{
  "nbformat": 4,
  "nbformat_minor": 0,
  "metadata": {
    "colab": {
      "name": "AAPG Simple Seismic Modeling .ipynb",
      "private_outputs": true,
      "provenance": [],
      "collapsed_sections": [],
      "authorship_tag": "ABX9TyPne8zWh8RoAniUb9kxbJcG",
      "include_colab_link": true
    },
    "kernelspec": {
      "name": "python3",
      "display_name": "Python 3"
    }
  },
  "cells": [
    {
      "cell_type": "markdown",
      "metadata": {
        "id": "view-in-github",
        "colab_type": "text"
      },
      "source": [
        "<a href=\"https://colab.research.google.com/github/Mero928/AAPG_Webinar_Nov2020/blob/main/AAPG_Simple_Seismic_Modeling_.ipynb\" target=\"_parent\"><img src=\"https://colab.research.google.com/assets/colab-badge.svg\" alt=\"Open In Colab\"/></a>"
      ]
    },
    {
      "cell_type": "markdown",
      "metadata": {
        "id": "J1thwkkkmyfW"
      },
      "source": [
        "# Simple Seismic Modeling \n"
      ]
    },
    {
      "cell_type": "code",
      "metadata": {
        "id": "vFL9McMZgkGv"
      },
      "source": [
        "from google.colab import drive\n",
        "drive.mount('/content/drive')\n",
        "# enter authorization code by your gmail login address\n",
        "# Drive already mounted at /content/drive;\n",
        "# to attempt to forcibly remount, call drive.mount(\"/content/drive\", force_remount=True)."
      ],
      "execution_count": null,
      "outputs": []
    },
    {
      "cell_type": "code",
      "metadata": {
        "id": "jsqaSm6dPvs7"
      },
      "source": [
        "# access data set using google drive path\n",
        "filename_pp = \"/content/drive/My Drive/Equinor Synthetic model/issap20_Pp.sgy\"\n",
        "filename_ai = \"/content/drive/My Drive/Equinor Synthetic model/issap20_AI.sgy\"\n",
        "filename_fault = \"/content/drive/My Drive/Equinor Synthetic model/issap20_Fault.sgy\""
      ],
      "execution_count": null,
      "outputs": []
    },
    {
      "cell_type": "markdown",
      "metadata": {
        "id": "ZTSzrGnzQOpY"
      },
      "source": [
        "## NOW you are ready to go to Notebook No# 01"
      ]
    },
    {
      "cell_type": "code",
      "metadata": {
        "id": "5-CYbcy--fZ5"
      },
      "source": [
        "from google.colab import drive\n",
        "drive.mount('/content/drive')\n",
        "# enter authorization code by your gmail login address\n",
        "# Drive already mounted at /content/drive;\n",
        "# to attempt to forcibly remount, call drive.mount(\"/content/drive\", force_remount=True)."
      ],
      "execution_count": null,
      "outputs": []
    },
    {
      "cell_type": "code",
      "metadata": {
        "id": "x7ZCD3QV-fZ5"
      },
      "source": [
        "# access data set using google drive path\n",
        "filename_pp = \"/content/drive/My Drive/Equinor Synthetic model/issap20_Pp.sgy\"\n",
        "filename_ai = \"/content/drive/My Drive/Equinor Synthetic model/issap20_AI.sgy\"\n",
        "filename_fault = \"/content/drive/My Drive/Equinor Synthetic model/issap20_Fault.sgy\""
      ],
      "execution_count": null,
      "outputs": []
    },
    {
      "cell_type": "markdown",
      "metadata": {
        "id": "Sklsos6H-fZ5"
      },
      "source": [
        "## NOW you are ready to go to Notebook No# 01"
      ]
    },
    {
      "cell_type": "code",
      "metadata": {
        "id": "ttWCymW8mpIE"
      },
      "source": [
        "# import libraries \n",
        "import numpy as np\n",
        "import pandas as pd \n",
        "import matplotlib.pyplot as plt \n",
        "from scipy.signal import convolve\n",
        "from scipy.signal import hilbert"
      ],
      "execution_count": null,
      "outputs": []
    },
    {
      "cell_type": "code",
      "metadata": {
        "id": "oT6vsuMcnPSO"
      },
      "source": [
        "# creat ricker wavelet \n",
        "def rickerwavelet(frq, time, dt):\n",
        "  t = np.arange(-time/2, time/2+dt, dt)/1000\n",
        "  wvlt = (1-2*np.pi**2*frq**2*t**2)*np.exp(-np.pi**2*frq**2*t**2)\n",
        "  return t, wvlt\n"
      ],
      "execution_count": null,
      "outputs": []
    },
    {
      "cell_type": "code",
      "metadata": {
        "id": "Be0me6yvoraH"
      },
      "source": [
        "ti,wavelet = rickerwavelet(20,200,10)\n",
        "display(ti)\n",
        "display(wavelet)\n",
        "\n",
        "plt.plot(ti,wavelet,'black', label = '20 Hz wavelet')\n",
        "plt.title(\"20 Hz Wavelet\")\n",
        "plt.legend()\n",
        "plt.show()"
      ],
      "execution_count": null,
      "outputs": []
    },
    {
      "cell_type": "code",
      "metadata": {
        "id": "a553_AUekTm4"
      },
      "source": [
        "#phase Rotation Wavelets\n",
        "f = 10 #frequency in hertz\n",
        "tn = 300 #wavelet length in ms\n",
        "dt = 4 #sampling rate in ms\n",
        "t,w1  = rickerwavelet(f,tn,dt)\n",
        "#t0,w0  = rickerwavelet(freq,dur,deltaT)\n",
        "htrans = hilbert(w1)\n",
        "deg = 180  #wavelet rotation\n",
        "theta = deg*np.pi/180\n",
        "w2 = np.cos(theta)*htrans.real-np.sin(theta)*htrans.imag\n",
        "plt.plot(t,w1,'r', label = 'Zero Phase')\n",
        "plt.plot(t,w2, 'b', label = 'Rotated %s deg' %deg)\n",
        "plt.legend()\n",
        "plt.show()"
      ],
      "execution_count": null,
      "outputs": []
    },
    {
      "cell_type": "code",
      "metadata": {
        "id": "8rRqq7vXpRY6"
      },
      "source": [
        "# Build the wedge model and seismic traces \n",
        "freq = 10\n",
        "dur = 500\n",
        "deltaT = 4\n",
        "time, wave1 = rickerwavelet(freq,dur,deltaT)\n",
        "samples = 250\n",
        "nt = 51\n",
        "#ref=[]\n",
        "traces = []\n",
        "for i in range(nt):\n",
        "  R = np.zeros(samples)\n",
        "  R[50]= 0.5\n",
        "  R[52+i] = -0.5\n",
        "  tr = convolve(R, wave1, mode='same')\n",
        "  traces.append(tr)\n",
        "  #ref.append(R)\n",
        "#ref = np.asarray(ref).T\n",
        "traces = np.asarray(traces).T"
      ],
      "execution_count": null,
      "outputs": []
    },
    {
      "cell_type": "code",
      "metadata": {
        "id": "aZMD8RDajBwO"
      },
      "source": [
        "traces[51,:]"
      ],
      "execution_count": null,
      "outputs": []
    },
    {
      "cell_type": "code",
      "metadata": {
        "id": "-6Nt82zdsML9"
      },
      "source": [
        "# Plotting the wdge model and seismic trace\n",
        "\n",
        "## Plotting Wedge Model \n",
        "plt.figure(figsize=(15,15))\n",
        "plt.subplot(3,1,1)\n",
        "plt.imshow(traces, aspect='auto', cmap='bwr_r')\n",
        "plt.title(\" Seismic Wedge Model of Frequency %s\" %freq + \" Hz\")\n",
        "plt.xlim(0,50)\n",
        "plt.grid()\n",
        "plt.colorbar()\n",
        "\n",
        "## Plotting Tunning thickness \n",
        "plt.subplot(3,1,2)\n",
        "amp50 = traces[51,:]\n",
        "plt.plot(amp50)\n",
        "plt.title(\" Seismic Amplitude of trace No# 50\")\n",
        "plt.grid()\n",
        "plt.xlim(0,50)\n",
        "\n",
        "## Plotting Trace No 50 \n",
        "plt.subplot(3,1,3)\n",
        "trace9 = traces[:,50]\n",
        "plt.plot(trace9)\n",
        "plt.title(\" Seismic Trace No# 50\")\n",
        "plt.grid()\n",
        "plt.show()"
      ],
      "execution_count": null,
      "outputs": []
    }
  ]
}